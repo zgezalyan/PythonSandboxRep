{
 "cells": [
  {
   "cell_type": "code",
   "execution_count": 10,
   "id": "a2783485",
   "metadata": {
    "ExecuteTime": {
     "end_time": "2023-02-21T15:53:47.189619Z",
     "start_time": "2023-02-21T15:53:47.170512Z"
    }
   },
   "outputs": [],
   "source": [
    "import string\n",
    "import unittest"
   ]
  },
  {
   "cell_type": "markdown",
   "id": "b64ab387",
   "metadata": {},
   "source": [
    "# Vocabulary"
   ]
  },
  {
   "cell_type": "code",
   "execution_count": 38,
   "id": "c345d9ba",
   "metadata": {
    "ExecuteTime": {
     "end_time": "2023-02-08T05:40:20.216144Z",
     "start_time": "2023-02-08T05:40:20.210128Z"
    }
   },
   "outputs": [
    {
     "data": {
      "text/plain": [
       "True"
      ]
     },
     "execution_count": 38,
     "metadata": {},
     "output_type": "execute_result"
    }
   ],
   "source": [
    "isinstance('word', str)"
   ]
  },
  {
   "cell_type": "code",
   "execution_count": 39,
   "id": "1e119b90",
   "metadata": {
    "ExecuteTime": {
     "end_time": "2023-02-08T05:40:31.987885Z",
     "start_time": "2023-02-08T05:40:31.969794Z"
    }
   },
   "outputs": [],
   "source": [
    "def add_prefix_un(word):\n",
    "    \"\"\"Take the given word and add the 'un' prefix.\n",
    "\n",
    "    :param word: str - containing the root word.\n",
    "    :return: str - of root word prepended with 'un'.\n",
    "    \"\"\"\n",
    "    if not isinstance(word, str):\n",
    "        raise TypeError('Argument should be string')\n",
    "    return 'un' + word"
   ]
  },
  {
   "cell_type": "code",
   "execution_count": 40,
   "id": "1252b9d1",
   "metadata": {
    "ExecuteTime": {
     "end_time": "2023-02-08T05:40:35.158172Z",
     "start_time": "2023-02-08T05:40:35.146933Z"
    }
   },
   "outputs": [
    {
     "data": {
      "text/plain": [
       "'unhappy'"
      ]
     },
     "execution_count": 40,
     "metadata": {},
     "output_type": "execute_result"
    }
   ],
   "source": [
    "add_prefix_un('happy')"
   ]
  },
  {
   "cell_type": "code",
   "execution_count": 48,
   "id": "091c85bb",
   "metadata": {
    "ExecuteTime": {
     "end_time": "2023-02-08T05:44:45.681411Z",
     "start_time": "2023-02-08T05:44:45.673432Z"
    }
   },
   "outputs": [],
   "source": [
    "def make_word_groups(vocab_words):\n",
    "    \"\"\"Transform a list containing a prefix and words into a string with the prefix followed by the words with prefix prepended.\n",
    "\n",
    "    :param vocab_words: list - of vocabulary words with prefix in first index.\n",
    "    :return: str - of prefix followed by vocabulary words with\n",
    "            prefix applied.\n",
    "\n",
    "    This function takes a `vocab_words` list and returns a string\n",
    "    with the prefix and the words with prefix applied, separated\n",
    "     by ' :: '.\n",
    "\n",
    "    For example: list('en', 'close', 'joy', 'lighten'),\n",
    "    produces the following string: 'en :: enclose :: enjoy :: enlighten'.\n",
    "    \"\"\"\n",
    "    if not isinstance(vocab_words, list):\n",
    "        raise TypeError('Argument should be list')\n",
    "    return ' :: '.join([vocab_words[0]] + [vocab_words[0] + word for word in vocab_words[1:]])"
   ]
  },
  {
   "cell_type": "code",
   "execution_count": 42,
   "id": "30a57d12",
   "metadata": {
    "ExecuteTime": {
     "end_time": "2023-02-08T05:41:06.247847Z",
     "start_time": "2023-02-08T05:41:06.241864Z"
    }
   },
   "outputs": [
    {
     "data": {
      "text/plain": [
       "'en :: enclose :: enjoy :: enlighten'"
      ]
     },
     "execution_count": 42,
     "metadata": {},
     "output_type": "execute_result"
    }
   ],
   "source": [
    "make_word_groups(['en', 'close', 'joy', 'lighten'])"
   ]
  },
  {
   "cell_type": "code",
   "execution_count": 43,
   "id": "51e69f9f",
   "metadata": {
    "ExecuteTime": {
     "end_time": "2023-02-08T05:41:30.439851Z",
     "start_time": "2023-02-08T05:41:30.426975Z"
    }
   },
   "outputs": [],
   "source": [
    "def remove_suffix_ness(word):\n",
    "    \"\"\"Remove the suffix from the word while keeping spelling in mind.\n",
    "\n",
    "    :param word: str - of word to remove suffix from.\n",
    "    :return: str - of word with suffix removed & spelling adjusted.\n",
    "\n",
    "    For example: \"heaviness\" becomes \"heavy\", but \"sadness\" becomes \"sad\".\n",
    "    \"\"\"\n",
    "    if not isinstance(word, str):\n",
    "        raise TypeError('Argument should be string')\n",
    "    if word[-4:] == 'ness':\n",
    "        if word[-5] == 'i':\n",
    "            return word[:-5] + 'y'\n",
    "        return word[:-4]\n",
    "    return word"
   ]
  },
  {
   "cell_type": "code",
   "execution_count": 44,
   "id": "5b397d1d",
   "metadata": {
    "ExecuteTime": {
     "end_time": "2023-02-08T05:41:33.408793Z",
     "start_time": "2023-02-08T05:41:33.393803Z"
    }
   },
   "outputs": [
    {
     "data": {
      "text/plain": [
       "'sad'"
      ]
     },
     "execution_count": 44,
     "metadata": {},
     "output_type": "execute_result"
    }
   ],
   "source": [
    "remove_suffix_ness(\"sadness\")"
   ]
  },
  {
   "cell_type": "code",
   "execution_count": 46,
   "id": "2538a279",
   "metadata": {
    "ExecuteTime": {
     "end_time": "2023-02-08T05:41:51.429200Z",
     "start_time": "2023-02-08T05:41:51.418229Z"
    }
   },
   "outputs": [],
   "source": [
    "def adjective_to_verb(sentence, index):\n",
    "    \"\"\"Change the adjective within the sentence to a verb.\n",
    "\n",
    "    :param sentence: str - that uses the word in sentence.\n",
    "    :param index: int - index of the word to remove and transform.\n",
    "    :return: str - word that changes the extracted adjective to a verb.\n",
    "\n",
    "    For example, (\"It got dark as the sun set\", 2) becomes \"darken\".\n",
    "    \"\"\"\n",
    "    if not isinstance(sentence, str):\n",
    "        raise TypeError('Argument should be string')\n",
    "    return sentence.split(' ')[index].replace('.', '').replace(',', '') + 'en'"
   ]
  },
  {
   "cell_type": "code",
   "execution_count": 47,
   "id": "542255e3",
   "metadata": {
    "ExecuteTime": {
     "end_time": "2023-02-08T05:41:54.607899Z",
     "start_time": "2023-02-08T05:41:54.593982Z"
    }
   },
   "outputs": [
    {
     "data": {
      "text/plain": [
       "'brighten'"
      ]
     },
     "execution_count": 47,
     "metadata": {},
     "output_type": "execute_result"
    }
   ],
   "source": [
    "adjective_to_verb('I need to make that bright.', -1)"
   ]
  },
  {
   "cell_type": "markdown",
   "id": "5d362ecd",
   "metadata": {},
   "source": [
    "# Pangram"
   ]
  },
  {
   "cell_type": "code",
   "execution_count": 7,
   "id": "2ef59e70",
   "metadata": {
    "ExecuteTime": {
     "end_time": "2023-02-18T05:29:58.570124Z",
     "start_time": "2023-02-18T05:29:58.557098Z"
    }
   },
   "outputs": [
    {
     "data": {
      "text/plain": [
       "'abcdefghijklmnopqrstuvwxyz'"
      ]
     },
     "execution_count": 7,
     "metadata": {},
     "output_type": "execute_result"
    }
   ],
   "source": [
    "string.printable[10:36]"
   ]
  },
  {
   "cell_type": "code",
   "execution_count": 11,
   "id": "fcac9dae",
   "metadata": {
    "ExecuteTime": {
     "end_time": "2023-02-18T05:34:54.233035Z",
     "start_time": "2023-02-18T05:34:54.228045Z"
    }
   },
   "outputs": [],
   "source": [
    "def is_pangram(sentence):\n",
    "    for ch in string.ascii_lowercase:\n",
    "        if ch not in sentence.lower():\n",
    "            return False\n",
    "    return True"
   ]
  },
  {
   "cell_type": "code",
   "execution_count": 12,
   "id": "bf6d8932",
   "metadata": {
    "ExecuteTime": {
     "end_time": "2023-02-18T05:34:56.132947Z",
     "start_time": "2023-02-18T05:34:56.116559Z"
    }
   },
   "outputs": [
    {
     "data": {
      "text/plain": [
       "True"
      ]
     },
     "execution_count": 12,
     "metadata": {},
     "output_type": "execute_result"
    }
   ],
   "source": [
    "is_pangram('\"Five quacking Zephyrs jolt my wax bed.\"')"
   ]
  },
  {
   "cell_type": "markdown",
   "id": "e2180bbc",
   "metadata": {},
   "source": [
    "# Isogram"
   ]
  },
  {
   "cell_type": "code",
   "execution_count": 22,
   "id": "f4a7e994",
   "metadata": {
    "ExecuteTime": {
     "end_time": "2023-02-21T16:02:09.962800Z",
     "start_time": "2023-02-21T16:02:09.945775Z"
    }
   },
   "outputs": [],
   "source": [
    "def is_isogram(string):\n",
    "    return len(string.replace(' ', '').replace('-', '').lower()) == len(set(string.replace(' ', '').replace('-', '').lower()))"
   ]
  },
  {
   "cell_type": "code",
   "execution_count": 13,
   "id": "9cf5da8a",
   "metadata": {
    "ExecuteTime": {
     "end_time": "2023-02-21T15:58:24.360321Z",
     "start_time": "2023-02-21T15:58:24.338019Z"
    }
   },
   "outputs": [],
   "source": [
    "class IsogramTest(unittest.TestCase):\n",
    "    def test_empty_string(self):\n",
    "        self.assertIs(is_isogram(\"\"), True)\n",
    "    def test_isogram_with_only_lower_case_characters(self):\n",
    "        self.assertIs(is_isogram(\"isogram\"), True)\n",
    "    def test_word_with_one_duplicated_character(self):\n",
    "        self.assertIs(is_isogram(\"eleven\"), False)\n",
    "    def test_word_with_one_duplicated_character_from_the_end_of_the_alphabet(self):\n",
    "        self.assertIs(is_isogram(\"zzyzx\"), False)\n",
    "    def test_longest_reported_english_isogram(self):\n",
    "        self.assertIs(is_isogram(\"subdermatoglyphic\"), True)\n",
    "    def test_word_with_duplicated_character_in_mixed_case(self):\n",
    "        self.assertIs(is_isogram(\"Alphabet\"), False)\n",
    "    def test_word_with_duplicated_character_in_mixed_case_lowercase_first(self):\n",
    "        self.assertIs(is_isogram(\"alphAbet\"), False)\n",
    "    def test_hypothetical_isogrammic_word_with_hyphen(self):\n",
    "        self.assertIs(is_isogram(\"thumbscrew-japingly\"), True)\n",
    "    def test_hypothetical_word_with_duplicated_character_following_hyphen(self):\n",
    "        self.assertIs(is_isogram(\"thumbscrew-jappingly\"), False)\n",
    "    def test_isogram_with_duplicated_hyphen(self):\n",
    "        self.assertIs(is_isogram(\"six-year-old\"), True)\n",
    "    def test_made_up_name_that_is_an_isogram(self):\n",
    "        self.assertIs(is_isogram(\"Emily Jung Schwartzkopf\"), True)\n",
    "    def test_duplicated_character_in_the_middle(self):\n",
    "        self.assertIs(is_isogram(\"accentor\"), False)\n",
    "    def test_same_first_and_last_characters(self):\n",
    "        self.assertIs(is_isogram(\"angola\"), False)\n",
    "    def test_word_with_duplicated_character_and_with_two_hyphens(self):\n",
    "        self.assertIs(is_isogram(\"up-to-date\"), False)"
   ]
  },
  {
   "cell_type": "code",
   "execution_count": 14,
   "id": "1ea75188",
   "metadata": {
    "ExecuteTime": {
     "end_time": "2023-02-21T15:58:25.793489Z",
     "start_time": "2023-02-21T15:58:25.786504Z"
    }
   },
   "outputs": [],
   "source": [
    "iso_test = IsogramTest()"
   ]
  },
  {
   "cell_type": "code",
   "execution_count": 23,
   "id": "a495c98d",
   "metadata": {
    "ExecuteTime": {
     "end_time": "2023-02-21T16:02:14.222282Z",
     "start_time": "2023-02-21T16:02:14.202255Z"
    }
   },
   "outputs": [],
   "source": [
    "iso_test.test_empty_string()\n",
    "iso_test.test_isogram_with_only_lower_case_characters()\n",
    "iso_test.test_word_with_one_duplicated_character()\n",
    "iso_test.test_word_with_one_duplicated_character_from_the_end_of_the_alphabet()\n",
    "iso_test.test_longest_reported_english_isogram()\n",
    "iso_test.test_word_with_duplicated_character_in_mixed_case()\n",
    "iso_test.test_word_with_duplicated_character_in_mixed_case_lowercase_first()\n",
    "iso_test.test_hypothetical_isogrammic_word_with_hyphen()\n",
    "iso_test.test_hypothetical_word_with_duplicated_character_following_hyphen()\n",
    "iso_test.test_isogram_with_duplicated_hyphen()\n",
    "iso_test.test_made_up_name_that_is_an_isogram()\n",
    "iso_test.test_duplicated_character_in_the_middle()\n",
    "iso_test.test_same_first_and_last_characters()\n",
    "iso_test.test_word_with_duplicated_character_and_with_two_hyphens()"
   ]
  }
 ],
 "metadata": {
  "kernelspec": {
   "display_name": "Python 3 (ipykernel)",
   "language": "python",
   "name": "python3"
  },
  "language_info": {
   "codemirror_mode": {
    "name": "ipython",
    "version": 3
   },
   "file_extension": ".py",
   "mimetype": "text/x-python",
   "name": "python",
   "nbconvert_exporter": "python",
   "pygments_lexer": "ipython3",
   "version": "3.9.13"
  },
  "toc": {
   "base_numbering": 1,
   "nav_menu": {},
   "number_sections": true,
   "sideBar": true,
   "skip_h1_title": false,
   "title_cell": "Table of Contents",
   "title_sidebar": "Contents",
   "toc_cell": false,
   "toc_position": {
    "height": "calc(100% - 180px)",
    "left": "10px",
    "top": "150px",
    "width": "307.333px"
   },
   "toc_section_display": true,
   "toc_window_display": true
  }
 },
 "nbformat": 4,
 "nbformat_minor": 5
}
