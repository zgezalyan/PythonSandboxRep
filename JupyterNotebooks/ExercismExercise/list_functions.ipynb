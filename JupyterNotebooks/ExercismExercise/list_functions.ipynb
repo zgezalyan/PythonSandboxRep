{
 "cells": [
  {
   "cell_type": "code",
   "execution_count": 28,
   "id": "adb0e9cd",
   "metadata": {
    "ExecuteTime": {
     "end_time": "2023-02-09T07:00:43.639171Z",
     "start_time": "2023-02-09T07:00:43.626772Z"
    }
   },
   "outputs": [],
   "source": [
    "def add_me_to_the_queue(express_queue, normal_queue, ticket_type, person_name):\n",
    "    \"\"\"Add a person to the 'express' or 'normal' queue depending on the ticket number.\n",
    "\n",
    "    :param express_queue: list - names in the Fast-track queue.\n",
    "    :param normal_queue: list - names in the normal queue.\n",
    "    :param ticket_type: int - type of ticket. 1 = express, 0 = normal.\n",
    "    :param person_name: str - name of person to add to a queue.\n",
    "    :return: list - the (updated) queue the name was added to.\n",
    "    \"\"\"\n",
    "    if ticket_type not in [0, 1]:\n",
    "        raise ValueError('ticket_type should be 1 or 0')\n",
    "    if ticket_type == 0:\n",
    "        return normal_queue + [person_name]\n",
    "    return express_queue + [person_name]"
   ]
  },
  {
   "cell_type": "code",
   "execution_count": 29,
   "id": "f3fa4fe4",
   "metadata": {
    "ExecuteTime": {
     "end_time": "2023-02-09T07:00:46.903977Z",
     "start_time": "2023-02-09T07:00:46.890044Z"
    }
   },
   "outputs": [
    {
     "data": {
      "text/plain": [
       "['Tony', 'Bruce', 'RichieRich']"
      ]
     },
     "execution_count": 29,
     "metadata": {},
     "output_type": "execute_result"
    }
   ],
   "source": [
    "add_me_to_the_queue(express_queue=[\"Tony\", \"Bruce\"], normal_queue=[\"RobotGuy\", \"WW\"], ticket_type=1, person_name=\"RichieRich\")"
   ]
  },
  {
   "cell_type": "code",
   "execution_count": 30,
   "id": "ed5f2e70",
   "metadata": {
    "ExecuteTime": {
     "end_time": "2023-02-09T07:00:50.805320Z",
     "start_time": "2023-02-09T07:00:50.793577Z"
    }
   },
   "outputs": [
    {
     "data": {
      "text/plain": [
       "['RobotGuy', 'WW', 'HawkEye']"
      ]
     },
     "execution_count": 30,
     "metadata": {},
     "output_type": "execute_result"
    }
   ],
   "source": [
    "add_me_to_the_queue(express_queue=[\"Tony\", \"Bruce\"], normal_queue=[\"RobotGuy\", \"WW\"], ticket_type=0, person_name=\"HawkEye\")"
   ]
  },
  {
   "cell_type": "code",
   "execution_count": 4,
   "id": "2cc45d99",
   "metadata": {
    "ExecuteTime": {
     "end_time": "2023-02-09T06:29:11.996747Z",
     "start_time": "2023-02-09T06:29:11.988769Z"
    }
   },
   "outputs": [],
   "source": [
    "def find_my_friend(queue, friend_name):\n",
    "    \"\"\"Search the queue for a name and return their queue position (index).\n",
    "\n",
    "    :param queue: list - names in the queue.\n",
    "    :param friend_name: str - name of friend to find.\n",
    "    :return: int - index at which the friends name was found.\n",
    "    \"\"\"\n",
    "    return queue.index(friend_name)"
   ]
  },
  {
   "cell_type": "code",
   "execution_count": 5,
   "id": "d226918f",
   "metadata": {
    "ExecuteTime": {
     "end_time": "2023-02-09T06:29:28.300817Z",
     "start_time": "2023-02-09T06:29:28.291820Z"
    }
   },
   "outputs": [
    {
     "data": {
      "text/plain": [
       "1"
      ]
     },
     "execution_count": 5,
     "metadata": {},
     "output_type": "execute_result"
    }
   ],
   "source": [
    "find_my_friend(queue=[\"Natasha\", \"Steve\", \"T'challa\", \"Wanda\", \"Rocket\"], friend_name=\"Steve\")"
   ]
  },
  {
   "cell_type": "code",
   "execution_count": 15,
   "id": "b645b112",
   "metadata": {
    "ExecuteTime": {
     "end_time": "2023-02-09T06:35:43.796155Z",
     "start_time": "2023-02-09T06:35:43.779518Z"
    }
   },
   "outputs": [],
   "source": [
    "def add_me_with_my_friends(queue, index, person_name):\n",
    "    \"\"\"Insert the late arrival's name at a specific index of the queue.\n",
    "\n",
    "    :param queue: list - names in the queue.\n",
    "    :param index: int - the index at which to add the new name.\n",
    "    :param person_name: str - the name to add.\n",
    "    :return: list - queue updated with new name.\n",
    "    \"\"\"\n",
    "    queue.insert(index, person_name)\n",
    "    return queue\n",
    "    "
   ]
  },
  {
   "cell_type": "code",
   "execution_count": 16,
   "id": "600eca61",
   "metadata": {
    "ExecuteTime": {
     "end_time": "2023-02-09T06:35:45.996546Z",
     "start_time": "2023-02-09T06:35:45.987578Z"
    }
   },
   "outputs": [
    {
     "data": {
      "text/plain": [
       "['Natasha', 'Bucky', 'Steve', \"T'challa\", 'Wanda', 'Rocket']"
      ]
     },
     "execution_count": 16,
     "metadata": {},
     "output_type": "execute_result"
    }
   ],
   "source": [
    "add_me_with_my_friends(queue=[\"Natasha\", \"Steve\", \"T'challa\", \"Wanda\", \"Rocket\"], index=1, person_name=\"Bucky\")"
   ]
  },
  {
   "cell_type": "code",
   "execution_count": 17,
   "id": "b51b5be7",
   "metadata": {
    "ExecuteTime": {
     "end_time": "2023-02-09T06:40:26.867419Z",
     "start_time": "2023-02-09T06:40:26.859441Z"
    }
   },
   "outputs": [],
   "source": [
    "def remove_the_mean_person(queue, person_name):\n",
    "    \"\"\"Remove the mean person from the queue by the provided name.\n",
    "\n",
    "    :param queue: list - names in the queue.\n",
    "    :param person_name: str - name of mean person.\n",
    "    :return: list - queue update with the mean persons name removed.\n",
    "    \"\"\"\n",
    "    queue.remove(person_name)\n",
    "    return queue"
   ]
  },
  {
   "cell_type": "code",
   "execution_count": 18,
   "id": "156fa5f4",
   "metadata": {
    "ExecuteTime": {
     "end_time": "2023-02-09T06:40:59.434789Z",
     "start_time": "2023-02-09T06:40:59.419064Z"
    }
   },
   "outputs": [
    {
     "data": {
      "text/plain": [
       "['Natasha', 'Steve', 'Wanda', 'Rocket']"
      ]
     },
     "execution_count": 18,
     "metadata": {},
     "output_type": "execute_result"
    }
   ],
   "source": [
    "remove_the_mean_person(queue=[\"Natasha\", \"Steve\", \"Eltran\", \"Wanda\", \"Rocket\"], person_name=\"Eltran\")"
   ]
  },
  {
   "cell_type": "code",
   "execution_count": 20,
   "id": "1b8e971a",
   "metadata": {
    "ExecuteTime": {
     "end_time": "2023-02-09T06:45:47.429327Z",
     "start_time": "2023-02-09T06:45:47.411221Z"
    }
   },
   "outputs": [],
   "source": [
    "def how_many_namefellows(queue, person_name):\n",
    "    \"\"\"Count how many times the provided name appears in the queue.\n",
    "\n",
    "    :param queue: list - names in the queue.\n",
    "    :param person_name: str - name you wish to count or track.\n",
    "    :return: int - the number of times the name appears in the queue.\n",
    "    \"\"\"\n",
    "    return queue.count(person_name)"
   ]
  },
  {
   "cell_type": "code",
   "execution_count": 21,
   "id": "80267500",
   "metadata": {
    "ExecuteTime": {
     "end_time": "2023-02-09T06:46:05.881277Z",
     "start_time": "2023-02-09T06:46:05.875293Z"
    }
   },
   "outputs": [
    {
     "data": {
      "text/plain": [
       "2"
      ]
     },
     "execution_count": 21,
     "metadata": {},
     "output_type": "execute_result"
    }
   ],
   "source": [
    "how_many_namefellows(queue=[\"Natasha\", \"Steve\", \"Eltran\", \"Natasha\", \"Rocket\"], person_name=\"Natasha\")"
   ]
  },
  {
   "cell_type": "code",
   "execution_count": 22,
   "id": "d8ec0d7b",
   "metadata": {
    "ExecuteTime": {
     "end_time": "2023-02-09T06:53:02.745196Z",
     "start_time": "2023-02-09T06:53:02.730203Z"
    }
   },
   "outputs": [],
   "source": [
    "def remove_the_last_person(queue):\n",
    "    \"\"\"Remove the person in the last index from the queue and return their name.\n",
    "\n",
    "    :param queue: list - names in the queue.\n",
    "    :return: str - name that has been removed from the end of the queue.\n",
    "    \"\"\"\n",
    "    last_person = queue[len(queue) - 1]\n",
    "    queue.pop(len(queue) - 1)\n",
    "    return last_person"
   ]
  },
  {
   "cell_type": "code",
   "execution_count": 23,
   "id": "46635fd4",
   "metadata": {
    "ExecuteTime": {
     "end_time": "2023-02-09T06:53:21.762268Z",
     "start_time": "2023-02-09T06:53:21.746298Z"
    }
   },
   "outputs": [
    {
     "data": {
      "text/plain": [
       "'Rocket'"
      ]
     },
     "execution_count": 23,
     "metadata": {},
     "output_type": "execute_result"
    }
   ],
   "source": [
    "remove_the_last_person(queue=[\"Natasha\", \"Steve\", \"Eltran\", \"Natasha\", \"Rocket\"])"
   ]
  },
  {
   "cell_type": "code",
   "execution_count": 26,
   "id": "0cccb43e",
   "metadata": {
    "ExecuteTime": {
     "end_time": "2023-02-09T06:56:02.730916Z",
     "start_time": "2023-02-09T06:56:02.721936Z"
    }
   },
   "outputs": [],
   "source": [
    "def sorted_names(queue):\n",
    "    \"\"\"Sort the names in the queue in alphabetical order and return the result.\n",
    "\n",
    "    :param queue: list - names in the queue.\n",
    "    :return: list - copy of the queue in alphabetical order.\n",
    "    \"\"\"\n",
    "    return sorted(queue)"
   ]
  },
  {
   "cell_type": "code",
   "execution_count": 27,
   "id": "0c7e90c3",
   "metadata": {
    "ExecuteTime": {
     "end_time": "2023-02-09T06:56:24.869930Z",
     "start_time": "2023-02-09T06:56:24.850092Z"
    }
   },
   "outputs": [
    {
     "data": {
      "text/plain": [
       "['Eltran', 'Natasha', 'Natasha', 'Rocket', 'Steve']"
      ]
     },
     "execution_count": 27,
     "metadata": {},
     "output_type": "execute_result"
    }
   ],
   "source": [
    "sorted_names(queue=[\"Natasha\", \"Steve\", \"Eltran\", \"Natasha\", \"Rocket\"])"
   ]
  }
 ],
 "metadata": {
  "kernelspec": {
   "display_name": "Python 3 (ipykernel)",
   "language": "python",
   "name": "python3"
  },
  "language_info": {
   "codemirror_mode": {
    "name": "ipython",
    "version": 3
   },
   "file_extension": ".py",
   "mimetype": "text/x-python",
   "name": "python",
   "nbconvert_exporter": "python",
   "pygments_lexer": "ipython3",
   "version": "3.9.13"
  },
  "toc": {
   "base_numbering": 1,
   "nav_menu": {},
   "number_sections": true,
   "sideBar": true,
   "skip_h1_title": false,
   "title_cell": "Table of Contents",
   "title_sidebar": "Contents",
   "toc_cell": false,
   "toc_position": {},
   "toc_section_display": true,
   "toc_window_display": true
  }
 },
 "nbformat": 4,
 "nbformat_minor": 5
}
