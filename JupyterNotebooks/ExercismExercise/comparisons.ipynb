{
 "cells": [
  {
   "cell_type": "markdown",
   "id": "685da56a",
   "metadata": {},
   "source": [
    "# Black Jack"
   ]
  },
  {
   "cell_type": "code",
   "execution_count": 1,
   "id": "0d0c7540",
   "metadata": {
    "ExecuteTime": {
     "end_time": "2023-02-16T09:25:02.620591Z",
     "start_time": "2023-02-16T09:25:02.604101Z"
    }
   },
   "outputs": [],
   "source": [
    "\"\"\"Functions to help play and score a game of blackjack.\n",
    "\n",
    "How to play blackjack:    https://bicyclecards.com/how-to-play/blackjack/\n",
    "\"Standard\" playing cards: https://en.wikipedia.org/wiki/Standard_52-card_deck\n",
    "\"\"\"\n",
    "LIST_OF_CARDS = ['2', '3', '4', '5', '6', '7', '8', '9', '10', 'J', 'Q', 'K', 'A']\n",
    "NUM_CARDS = ['2', '3', '4', '5', '6', '7', '8', '9', '10']\n",
    "\n",
    "\n",
    "def value_of_card(card):\n",
    "    \"\"\"Determine the scoring value of a card.\n",
    "\n",
    "    :param card: str - given card.\n",
    "    :return: int - value of a given card.  See below for values.\n",
    "\n",
    "    1.  'J', 'Q', or 'K' (otherwise known as \"face cards\") = 10\n",
    "    2.  'A' (ace card) = 1\n",
    "    3.  '2' - '10' = numerical value.\n",
    "    \"\"\"\n",
    "    if card not in LIST_OF_CARDS:\n",
    "        raise ValueError('there is no such card: ' + card)\n",
    "    if card in NUM_CARDS:\n",
    "        return int(card)\n",
    "    elif card == 'J' or card == 'Q' or card == 'K':\n",
    "        return 10\n",
    "    else:\n",
    "        return 1\n",
    "\n",
    "\n",
    "def higher_card(card_one, card_two):\n",
    "    \"\"\"Determine which card has a higher value in the hand.\n",
    "\n",
    "    :param card_one, card_two: str - cards dealt in hand.  See below for values.\n",
    "    :return: str or tuple - resulting Tuple contains both cards if they are of equal value.\n",
    "\n",
    "    1.  'J', 'Q', or 'K' (otherwise known as \"face cards\") = 10\n",
    "    2.  'A' (ace card) = 1\n",
    "    3.  '2' - '10' = numerical value.\n",
    "    \"\"\"\n",
    "    if card_one not in LIST_OF_CARDS:\n",
    "        raise ValueError('there is no such card: ' + card_one)\n",
    "    if card_two not in LIST_OF_CARDS:\n",
    "        raise ValueError('there is no such card: ' + card_two)\n",
    "    \n",
    "    value_one = value_of_card(card_one)\n",
    "    value_two = value_of_card(card_two)\n",
    "\n",
    "    if value_one > value_two:\n",
    "        return card_one\n",
    "    elif value_one < value_two:\n",
    "        return card_two\n",
    "    else:\n",
    "        return (card_one, card_two)\n",
    "\n",
    "\n",
    "def value_of_ace(card_one, card_two):\n",
    "    \"\"\"Calculate the most advantageous value for the ace card.\n",
    "\n",
    "    :param card_one, card_two: str - card dealt. See below for values.\n",
    "    :return: int - either 1 or 11 value of the upcoming ace card.\n",
    "\n",
    "    1.  'J', 'Q', or 'K' (otherwise known as \"face cards\") = 10\n",
    "    2.  'A' (ace card) = 11 (if already in hand)\n",
    "    3.  '2' - '10' = numerical value.\n",
    "    \"\"\"\n",
    "    if card_one not in LIST_OF_CARDS:\n",
    "        raise ValueError('there is no such card: ' + card_one)\n",
    "    if card_two not in LIST_OF_CARDS:\n",
    "        raise ValueError('there is no such card: ' + card_two)\n",
    "    if value_of_card(card_one) + value_of_card(card_two) + 11 > 21 or 'A' in [card_one, card_two]:\n",
    "        return 1\n",
    "    else:\n",
    "        return 11\n",
    "\n",
    "\n",
    "def is_blackjack(card_one, card_two):\n",
    "    \"\"\"Determine if the hand is a 'natural' or 'blackjack'.\n",
    "\n",
    "    :param card_one, card_two: str - card dealt. See below for values.\n",
    "    :return: bool - is the hand is a blackjack (two cards worth 21).\n",
    "\n",
    "    1.  'J', 'Q', or 'K' (otherwise known as \"face cards\") = 10\n",
    "    2.  'A' (ace card) = 11 (if already in hand)\n",
    "    3.  '2' - '10' = numerical value.\n",
    "    \"\"\"\n",
    "    if card_one not in LIST_OF_CARDS:\n",
    "        raise ValueError('there is no such card: ' + card_one)\n",
    "    if card_two not in LIST_OF_CARDS:\n",
    "        raise ValueError('there is no such card: ' + card_two)\n",
    "    \n",
    "    value_one = value_of_card(card_one)\n",
    "    if card_one == 'A':\n",
    "        value_one = 11\n",
    "    value_two = value_of_card(card_two)\n",
    "    if card_two == 'A':\n",
    "        value_two = 11\n",
    "    \n",
    "    return value_one + value_two == 21        \n",
    "\n",
    "\n",
    "def can_split_pairs(card_one, card_two):\n",
    "    \"\"\"Determine if a player can split their hand into two hands.\n",
    "\n",
    "    :param card_one, card_two: str - cards dealt.\n",
    "    :return: bool - can the hand be split into two pairs? (i.e. cards are of the same value).\n",
    "    \"\"\"\n",
    "    if card_one not in LIST_OF_CARDS:\n",
    "        raise ValueError('there is no such card: ' + card_one)\n",
    "    if card_two not in LIST_OF_CARDS:\n",
    "        raise ValueError('there is no such card: ' + card_two)\n",
    "\n",
    "    value_one = value_of_card(card_one)\n",
    "    value_two = value_of_card(card_two)\n",
    "    return value_one == value_two\n",
    "\n",
    "\n",
    "def can_double_down(card_one, card_two):\n",
    "    \"\"\"Determine if a blackjack player can place a double down bet.\n",
    "\n",
    "    :param card_one, card_two: str - first and second cards in hand.\n",
    "    :return: bool - can the hand can be doubled down? (i.e. totals 9, 10 or 11 points).\n",
    "    \"\"\"\n",
    "    if card_one not in LIST_OF_CARDS:\n",
    "        raise ValueError('there is no such card: ' + card_one)\n",
    "    if card_two not in LIST_OF_CARDS:\n",
    "        raise ValueError('there is no such card: ' + card_two)\n",
    "\n",
    "    value_one = value_of_card(card_one)\n",
    "    value_two = value_of_card(card_two)\n",
    "    return (value_one + value_two) in [9, 10, 11]"
   ]
  },
  {
   "cell_type": "markdown",
   "id": "78117e56",
   "metadata": {},
   "source": [
    "# Darts"
   ]
  },
  {
   "cell_type": "code",
   "execution_count": 3,
   "id": "3cb86b20",
   "metadata": {
    "ExecuteTime": {
     "end_time": "2023-02-16T09:41:05.100684Z",
     "start_time": "2023-02-16T09:41:05.091708Z"
    }
   },
   "outputs": [],
   "source": [
    "def score(x, y):\n",
    "    pt = ( (x ** 2) + (y ** 2) ) ** 0.5\n",
    "    if pt <= 1:\n",
    "        return 10\n",
    "    if pt <= 5:\n",
    "        return 5\n",
    "    if pt <= 10:\n",
    "        return 1\n",
    "    return 0\n"
   ]
  },
  {
   "cell_type": "markdown",
   "id": "64e68f7f",
   "metadata": {},
   "source": [
    "# Perfect Numbers"
   ]
  },
  {
   "cell_type": "code",
   "execution_count": 7,
   "id": "0203c513",
   "metadata": {
    "ExecuteTime": {
     "end_time": "2023-02-16T09:52:26.548969Z",
     "start_time": "2023-02-16T09:52:26.538020Z"
    }
   },
   "outputs": [],
   "source": [
    "def classify(number):\n",
    "    \"\"\" A perfect number equals the sum of its positive divisors.\n",
    "\n",
    "    :param number: int a positive integer\n",
    "    :return: str the classification of the input integer\n",
    "    \"\"\"\n",
    "    if number < 1:\n",
    "        raise ValueError('Classification is only possible for positive integers.')\n",
    "    sum_of_aq = sum([div for div in range(1, number) if number % div == 0])\n",
    "    if sum_of_aq == number:\n",
    "        return 'perfect'\n",
    "    if sum_of_aq > number:\n",
    "        return 'abundant'\n",
    "    return 'deficient'"
   ]
  },
  {
   "cell_type": "code",
   "execution_count": 5,
   "id": "ea231065",
   "metadata": {
    "ExecuteTime": {
     "end_time": "2023-02-16T09:49:14.052993Z",
     "start_time": "2023-02-16T09:49:14.040695Z"
    }
   },
   "outputs": [
    {
     "data": {
      "text/plain": [
       "[1, 2, 3]"
      ]
     },
     "execution_count": 5,
     "metadata": {},
     "output_type": "execute_result"
    }
   ],
   "source": [
    "[x for x in range(1, 6) if 6 % x == 0]"
   ]
  },
  {
   "cell_type": "markdown",
   "id": "a8badcfd",
   "metadata": {},
   "source": [
    "# Sublist"
   ]
  },
  {
   "cell_type": "code",
   "execution_count": 10,
   "id": "17e3022a",
   "metadata": {
    "ExecuteTime": {
     "end_time": "2023-02-16T10:08:48.539842Z",
     "start_time": "2023-02-16T10:08:48.520893Z"
    }
   },
   "outputs": [],
   "source": [
    "SUBLIST = 0\n",
    "SUPERLIST = 1\n",
    "EQUAL = 2\n",
    "UNEQUAL = 3\n",
    "\n",
    "\n",
    "def sublist(list_one, list_two):\n",
    "    if list_one == list_two:\n",
    "        return EQUAL\n",
    "    string_1 = \", \".join(str(el) for el in list_one) + ', '\n",
    "    string_2 = \", \".join(str(el) for el in list_two) + ', '\n",
    "    if string_1 in string_2:        \n",
    "        return SUBLIST\n",
    "    if string_2 in string_1:        \n",
    "        return SUPERLIST\n",
    "    return UNEQUAL"
   ]
  },
  {
   "cell_type": "code",
   "execution_count": 9,
   "id": "f4e05b78",
   "metadata": {
    "ExecuteTime": {
     "end_time": "2023-02-16T09:58:41.493063Z",
     "start_time": "2023-02-16T09:58:41.487080Z"
    }
   },
   "outputs": [
    {
     "data": {
      "text/plain": [
       "True"
      ]
     },
     "execution_count": 9,
     "metadata": {},
     "output_type": "execute_result"
    }
   ],
   "source": [
    "[1, 2, 3], [2, 3, 4]"
   ]
  },
  {
   "cell_type": "markdown",
   "id": "f5f92e13",
   "metadata": {},
   "source": [
    "# All Your Base"
   ]
  },
  {
   "cell_type": "code",
   "execution_count": 7,
   "id": "f6a3fa50",
   "metadata": {
    "ExecuteTime": {
     "end_time": "2023-02-18T05:23:20.514947Z",
     "start_time": "2023-02-18T05:23:20.499967Z"
    }
   },
   "outputs": [],
   "source": [
    "def rebase(input_base, digits, output_base):\n",
    "    if input_base < 2:\n",
    "        raise ValueError('input base must be >= 2')\n",
    "    for digit in digits:\n",
    "        if digit >= input_base or digit < 0:\n",
    "            raise ValueError('all digits must satisfy 0 <= d < input base')\n",
    "    if output_base < 2:\n",
    "        raise ValueError('output base must be >= 2')\n",
    "    in_10 = 0\n",
    "    for num, digit in enumerate(list(reversed(digits))):\n",
    "        in_10 += digit * (input_base ** num)\n",
    "    if in_10 == 0:\n",
    "        return [0]\n",
    "    res = []\n",
    "    while in_10 > 0:\n",
    "        res.insert(0, in_10 % output_base)\n",
    "        in_10 = in_10 // output_base\n",
    "    return res"
   ]
  },
  {
   "cell_type": "code",
   "execution_count": 5,
   "id": "8bf6c0b9",
   "metadata": {
    "ExecuteTime": {
     "end_time": "2023-02-18T05:21:54.169953Z",
     "start_time": "2023-02-18T05:21:54.156819Z"
    }
   },
   "outputs": [
    {
     "data": {
      "text/plain": [
       "[]"
      ]
     },
     "execution_count": 5,
     "metadata": {},
     "output_type": "execute_result"
    }
   ],
   "source": [
    "rebase(97, [0], 73)"
   ]
  }
 ],
 "metadata": {
  "kernelspec": {
   "display_name": "Python 3 (ipykernel)",
   "language": "python",
   "name": "python3"
  },
  "language_info": {
   "codemirror_mode": {
    "name": "ipython",
    "version": 3
   },
   "file_extension": ".py",
   "mimetype": "text/x-python",
   "name": "python",
   "nbconvert_exporter": "python",
   "pygments_lexer": "ipython3",
   "version": "3.9.13"
  },
  "toc": {
   "base_numbering": 1,
   "nav_menu": {},
   "number_sections": true,
   "sideBar": true,
   "skip_h1_title": false,
   "title_cell": "Table of Contents",
   "title_sidebar": "Contents",
   "toc_cell": false,
   "toc_position": {},
   "toc_section_display": true,
   "toc_window_display": true
  }
 },
 "nbformat": 4,
 "nbformat_minor": 5
}
