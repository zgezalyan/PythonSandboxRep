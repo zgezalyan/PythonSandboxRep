{
 "cells": [
  {
   "cell_type": "code",
   "execution_count": 27,
   "id": "7b96e7c9",
   "metadata": {
    "ExecuteTime": {
     "end_time": "2023-02-14T06:25:34.042130Z",
     "start_time": "2023-02-14T06:25:34.034153Z"
    }
   },
   "outputs": [],
   "source": [
    "class Alien:\n",
    "    \"\"\"Create an Alien object with location x_coordinate and y_coordinate.\n",
    "\n",
    "    Attributes\n",
    "    ----------\n",
    "    (class)total_aliens_created: int\n",
    "    x_coordinate: int - Position on the x-axis.\n",
    "    y_coordinate: int - Position on the y-axis.\n",
    "    health: int - Amount of health points.\n",
    "\n",
    "    Methods\n",
    "    -------\n",
    "    hit(): Decrement Alien health by one point.\n",
    "    is_alive(): Return a boolean for if Alien is alive (if health is > 0).\n",
    "    teleport(new_x_coordinate, new_y_coordinate): Move Alien object to new coordinates.\n",
    "    collision_detection(other): Implementation TBD.\n",
    "    \"\"\"\n",
    "    total_aliens_created = 0\n",
    "\n",
    "    def __init__(self, x_coordinate, y_coordinate):\n",
    "        self.x_coordinate = x_coordinate\n",
    "        self.y_coordinate = y_coordinate\n",
    "        self.health = 3\n",
    "        Alien.total_aliens_created += 1\n",
    "\n",
    "    def hit(self):\n",
    "        self.health -= 1\n",
    "\n",
    "    def is_alive(self):\n",
    "        return self.health > 0\n",
    "\n",
    "    def teleport(self, x_coordinate, y_coordinate):\n",
    "        self.x_coordinate = x_coordinate\n",
    "        self.y_coordinate = y_coordinate\n",
    "\n",
    "    def collision_detection(self, other_object):\n",
    "        pass"
   ]
  },
  {
   "cell_type": "code",
   "execution_count": 28,
   "id": "50e5dc1c",
   "metadata": {
    "ExecuteTime": {
     "end_time": "2023-02-14T06:25:35.762414Z",
     "start_time": "2023-02-14T06:25:35.746689Z"
    }
   },
   "outputs": [],
   "source": [
    "def new_aliens_collection(list_of_vals):\n",
    "    res = []\n",
    "    for val in list_of_vals:\n",
    "        res.append(Alien(*val))\n",
    "    return res"
   ]
  },
  {
   "cell_type": "code",
   "execution_count": 29,
   "id": "f84ee716",
   "metadata": {
    "ExecuteTime": {
     "end_time": "2023-02-14T06:25:36.681484Z",
     "start_time": "2023-02-14T06:25:36.664816Z"
    }
   },
   "outputs": [
    {
     "data": {
      "text/plain": [
       "[<__main__.Alien at 0x1f174423040>, <__main__.Alien at 0x1f174423880>]"
      ]
     },
     "execution_count": 29,
     "metadata": {},
     "output_type": "execute_result"
    }
   ],
   "source": [
    "new_aliens_collection([(4, 7), (-1, 0)])"
   ]
  },
  {
   "cell_type": "code",
   "execution_count": 30,
   "id": "7739f64f",
   "metadata": {
    "ExecuteTime": {
     "end_time": "2023-02-14T06:25:37.695496Z",
     "start_time": "2023-02-14T06:25:37.682068Z"
    }
   },
   "outputs": [
    {
     "data": {
      "text/plain": [
       "2"
      ]
     },
     "execution_count": 30,
     "metadata": {},
     "output_type": "execute_result"
    }
   ],
   "source": [
    "alien_1 = Alien(2, 0)\n",
    "alien_2 = Alien(3, 1)\n",
    "alien_1.x_coordinate"
   ]
  },
  {
   "cell_type": "code",
   "execution_count": 31,
   "id": "b531ed44",
   "metadata": {
    "ExecuteTime": {
     "end_time": "2023-02-14T06:25:39.002190Z",
     "start_time": "2023-02-14T06:25:38.986243Z"
    }
   },
   "outputs": [
    {
     "data": {
      "text/plain": [
       "0"
      ]
     },
     "execution_count": 31,
     "metadata": {},
     "output_type": "execute_result"
    }
   ],
   "source": [
    "alien_1.y_coordinate"
   ]
  },
  {
   "cell_type": "code",
   "execution_count": 4,
   "id": "32d5eac6",
   "metadata": {
    "ExecuteTime": {
     "end_time": "2023-02-14T06:02:06.892476Z",
     "start_time": "2023-02-14T06:02:06.873340Z"
    }
   },
   "outputs": [
    {
     "data": {
      "text/plain": [
       "3"
      ]
     },
     "execution_count": 4,
     "metadata": {},
     "output_type": "execute_result"
    }
   ],
   "source": [
    "alien_1.health"
   ]
  },
  {
   "cell_type": "code",
   "execution_count": 5,
   "id": "0e8a688f",
   "metadata": {
    "ExecuteTime": {
     "end_time": "2023-02-14T06:02:08.012869Z",
     "start_time": "2023-02-14T06:02:07.993326Z"
    }
   },
   "outputs": [
    {
     "data": {
      "text/plain": [
       "3"
      ]
     },
     "execution_count": 5,
     "metadata": {},
     "output_type": "execute_result"
    }
   ],
   "source": [
    "alien_2.health"
   ]
  },
  {
   "cell_type": "code",
   "execution_count": 6,
   "id": "911286be",
   "metadata": {
    "ExecuteTime": {
     "end_time": "2023-02-14T06:02:09.884198Z",
     "start_time": "2023-02-14T06:02:09.873604Z"
    }
   },
   "outputs": [
    {
     "data": {
      "text/plain": [
       "2"
      ]
     },
     "execution_count": 6,
     "metadata": {},
     "output_type": "execute_result"
    }
   ],
   "source": [
    "alien_1.total_aliens_created"
   ]
  },
  {
   "cell_type": "code",
   "execution_count": 7,
   "id": "ecd2871f",
   "metadata": {
    "ExecuteTime": {
     "end_time": "2023-02-14T06:02:11.940445Z",
     "start_time": "2023-02-14T06:02:11.921807Z"
    }
   },
   "outputs": [
    {
     "data": {
      "text/plain": [
       "2"
      ]
     },
     "execution_count": 7,
     "metadata": {},
     "output_type": "execute_result"
    }
   ],
   "source": [
    "alien_2.total_aliens_created"
   ]
  },
  {
   "cell_type": "code",
   "execution_count": 10,
   "id": "ba791522",
   "metadata": {
    "ExecuteTime": {
     "end_time": "2023-02-14T06:02:16.796470Z",
     "start_time": "2023-02-14T06:02:16.776759Z"
    }
   },
   "outputs": [
    {
     "data": {
      "text/plain": [
       "1"
      ]
     },
     "execution_count": 10,
     "metadata": {},
     "output_type": "execute_result"
    }
   ],
   "source": [
    "alien_1.hit()\n",
    "alien_1.health"
   ]
  },
  {
   "cell_type": "code",
   "execution_count": 11,
   "id": "e7a9ddf0",
   "metadata": {
    "ExecuteTime": {
     "end_time": "2023-02-14T06:02:18.076710Z",
     "start_time": "2023-02-14T06:02:18.065756Z"
    }
   },
   "outputs": [
    {
     "data": {
      "text/plain": [
       "3"
      ]
     },
     "execution_count": 11,
     "metadata": {},
     "output_type": "execute_result"
    }
   ],
   "source": [
    "alien_2.health"
   ]
  },
  {
   "cell_type": "code",
   "execution_count": 12,
   "id": "0dfcd6b5",
   "metadata": {
    "ExecuteTime": {
     "end_time": "2023-02-14T06:02:19.122291Z",
     "start_time": "2023-02-14T06:02:19.113337Z"
    }
   },
   "outputs": [
    {
     "data": {
      "text/plain": [
       "True"
      ]
     },
     "execution_count": 12,
     "metadata": {},
     "output_type": "execute_result"
    }
   ],
   "source": [
    "alien_1.is_alive()"
   ]
  },
  {
   "cell_type": "code",
   "execution_count": 13,
   "id": "22f393b0",
   "metadata": {
    "ExecuteTime": {
     "end_time": "2023-02-14T06:02:22.800834Z",
     "start_time": "2023-02-14T06:02:22.792523Z"
    }
   },
   "outputs": [
    {
     "data": {
      "text/plain": [
       "5"
      ]
     },
     "execution_count": 13,
     "metadata": {},
     "output_type": "execute_result"
    }
   ],
   "source": [
    "alien_1.teleport(5, -4)\n",
    "alien_1.x_coordinate"
   ]
  },
  {
   "cell_type": "code",
   "execution_count": 14,
   "id": "363211ce",
   "metadata": {
    "ExecuteTime": {
     "end_time": "2023-02-14T06:02:24.943303Z",
     "start_time": "2023-02-14T06:02:24.937319Z"
    }
   },
   "outputs": [],
   "source": [
    "alien_1.collision_detection('other_object')"
   ]
  },
  {
   "cell_type": "code",
   "execution_count": 18,
   "id": "d20e777d",
   "metadata": {
    "ExecuteTime": {
     "end_time": "2023-02-14T06:09:00.262930Z",
     "start_time": "2023-02-14T06:09:00.256944Z"
    }
   },
   "outputs": [
    {
     "data": {
      "text/plain": [
       "[2, 3, 4]"
      ]
     },
     "execution_count": 18,
     "metadata": {},
     "output_type": "execute_result"
    }
   ],
   "source": [
    "def tst(a):\n",
    "    return a + 1\n",
    "\n",
    "list(map(tst, [1, 2, 3]))"
   ]
  }
 ],
 "metadata": {
  "kernelspec": {
   "display_name": "Python 3 (ipykernel)",
   "language": "python",
   "name": "python3"
  },
  "language_info": {
   "codemirror_mode": {
    "name": "ipython",
    "version": 3
   },
   "file_extension": ".py",
   "mimetype": "text/x-python",
   "name": "python",
   "nbconvert_exporter": "python",
   "pygments_lexer": "ipython3",
   "version": "3.9.13"
  },
  "toc": {
   "base_numbering": 1,
   "nav_menu": {},
   "number_sections": true,
   "sideBar": true,
   "skip_h1_title": false,
   "title_cell": "Table of Contents",
   "title_sidebar": "Contents",
   "toc_cell": false,
   "toc_position": {},
   "toc_section_display": true,
   "toc_window_display": true
  }
 },
 "nbformat": 4,
 "nbformat_minor": 5
}
