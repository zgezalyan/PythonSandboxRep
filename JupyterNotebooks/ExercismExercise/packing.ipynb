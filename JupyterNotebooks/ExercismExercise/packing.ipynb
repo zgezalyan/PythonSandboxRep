{
 "cells": [
  {
   "cell_type": "code",
   "execution_count": 7,
   "id": "013d5b24",
   "metadata": {
    "ExecuteTime": {
     "end_time": "2023-02-09T12:33:56.309465Z",
     "start_time": "2023-02-09T12:33:56.301365Z"
    }
   },
   "outputs": [],
   "source": [
    "def get_list_of_wagons(*param):\n",
    "    \"\"\"Return a list of wagons.\n",
    "\n",
    "    :param: arbitrary number of wagons.\n",
    "    :return: list - list of wagons.\n",
    "    \"\"\"\n",
    "    return list(param)"
   ]
  },
  {
   "cell_type": "code",
   "execution_count": 8,
   "id": "f4903cff",
   "metadata": {
    "ExecuteTime": {
     "end_time": "2023-02-09T12:33:58.523323Z",
     "start_time": "2023-02-09T12:33:58.517340Z"
    }
   },
   "outputs": [
    {
     "data": {
      "text/plain": [
       "[1, 7, 12, 3, 14, 8, 5]"
      ]
     },
     "execution_count": 8,
     "metadata": {},
     "output_type": "execute_result"
    }
   ],
   "source": [
    "get_list_of_wagons(1, 7, 12, 3, 14, 8, 5)"
   ]
  },
  {
   "cell_type": "code",
   "execution_count": 9,
   "id": "99a8e228",
   "metadata": {
    "ExecuteTime": {
     "end_time": "2023-02-09T12:43:18.013061Z",
     "start_time": "2023-02-09T12:43:18.005113Z"
    }
   },
   "outputs": [],
   "source": [
    "def fix_list_of_wagons(each_wagons_id, missing_wagons):\n",
    "    \"\"\"Fix the list of wagons.\n",
    "\n",
    "    :parm each_wagons_id: list - the list of wagons.\n",
    "    :parm missing_wagons: list - the list of missing wagons.\n",
    "    :return: list - list of wagons.\n",
    "    \"\"\"\n",
    "    first, second, third, *other = each_wagons_id\n",
    "    return [third] + missing_wagons + other + [first, second]"
   ]
  },
  {
   "cell_type": "code",
   "execution_count": 10,
   "id": "ca3c54a7",
   "metadata": {
    "ExecuteTime": {
     "end_time": "2023-02-09T12:43:36.849416Z",
     "start_time": "2023-02-09T12:43:36.836483Z"
    }
   },
   "outputs": [
    {
     "data": {
      "text/plain": [
       "[1, 3, 17, 6, 15, 7, 4, 12, 6, 3, 13, 2, 5]"
      ]
     },
     "execution_count": 10,
     "metadata": {},
     "output_type": "execute_result"
    }
   ],
   "source": [
    "fix_list_of_wagons([2, 5, 1, 7, 4, 12, 6, 3, 13], [3, 17, 6, 15])"
   ]
  },
  {
   "cell_type": "code",
   "execution_count": 25,
   "id": "a1532de9",
   "metadata": {
    "ExecuteTime": {
     "end_time": "2023-02-09T12:53:38.006324Z",
     "start_time": "2023-02-09T12:53:37.987661Z"
    }
   },
   "outputs": [],
   "source": [
    "def add_missing_stops(route, **stops):\n",
    "    \"\"\"Add missing stops to route dict.\n",
    "\n",
    "    :param route: dict - the dict of routing information.\n",
    "    :param: arbitrary number of stops.\n",
    "    :return: dict - updated route dictionary.\n",
    "    \"\"\"\n",
    "    route.update({'stops': list(stops.values())})\n",
    "    return route"
   ]
  },
  {
   "cell_type": "code",
   "execution_count": 26,
   "id": "872c9216",
   "metadata": {
    "ExecuteTime": {
     "end_time": "2023-02-09T12:53:39.649732Z",
     "start_time": "2023-02-09T12:53:39.635864Z"
    }
   },
   "outputs": [
    {
     "data": {
      "text/plain": [
       "{'from': 'New York',\n",
       " 'to': 'Miami',\n",
       " 'stops': ['Washington, DC',\n",
       "  'Charlotte',\n",
       "  'Atlanta',\n",
       "  'Jacksonville',\n",
       "  'Orlando']}"
      ]
     },
     "execution_count": 26,
     "metadata": {},
     "output_type": "execute_result"
    }
   ],
   "source": [
    "add_missing_stops({\"from\": \"New York\", \"to\": \"Miami\"},\n",
    "                      stop_1=\"Washington, DC\", stop_2=\"Charlotte\", stop_3=\"Atlanta\",\n",
    "                      stop_4=\"Jacksonville\", stop_5=\"Orlando\")"
   ]
  },
  {
   "cell_type": "code",
   "execution_count": 28,
   "id": "dc219876",
   "metadata": {
    "ExecuteTime": {
     "end_time": "2023-02-09T13:49:43.247062Z",
     "start_time": "2023-02-09T13:49:43.231939Z"
    }
   },
   "outputs": [],
   "source": [
    "def extend_route_information(route, more_route_information):\n",
    "    \"\"\"Extend route information with more_route_information.\n",
    "\n",
    "    :param route: dict - the route information.\n",
    "    :param more_route_information: dict -  extra route information.\n",
    "    :return: dict - extended route information.\n",
    "    \"\"\"\n",
    "    route.update(more_route_information)\n",
    "    return route"
   ]
  },
  {
   "cell_type": "code",
   "execution_count": 29,
   "id": "7ef6ea2b",
   "metadata": {
    "ExecuteTime": {
     "end_time": "2023-02-09T13:49:55.266171Z",
     "start_time": "2023-02-09T13:49:55.256199Z"
    }
   },
   "outputs": [
    {
     "data": {
      "text/plain": [
       "{'from': 'Berlin', 'to': 'Hamburg', 'length': '100', 'speed': '50'}"
      ]
     },
     "execution_count": 29,
     "metadata": {},
     "output_type": "execute_result"
    }
   ],
   "source": [
    "extend_route_information({\"from\": \"Berlin\", \"to\": \"Hamburg\"}, {\"length\": \"100\", \"speed\": \"50\"})"
   ]
  },
  {
   "cell_type": "code",
   "execution_count": 30,
   "id": "a50eb7f4",
   "metadata": {
    "ExecuteTime": {
     "end_time": "2023-02-09T13:59:55.693960Z",
     "start_time": "2023-02-09T13:59:55.687976Z"
    }
   },
   "outputs": [],
   "source": [
    "def fix_wagon_depot(wagons_rows):\n",
    "    \"\"\"Fix the list of rows of wagons.\n",
    "\n",
    "    :param wagons_rows: list[list[tuple]] - the list of rows of wagons.\n",
    "    :return: list[list[tuple]] - list of rows of wagons.\n",
    "    \"\"\"\n",
    "    first_color, second_color, third_color = wagons_rows\n",
    "    return [[first_color[item], second_color[item], third_color[item]] for item in range(len(first_color))]"
   ]
  },
  {
   "cell_type": "code",
   "execution_count": 31,
   "id": "5f6e6c26",
   "metadata": {
    "ExecuteTime": {
     "end_time": "2023-02-09T14:00:11.299484Z",
     "start_time": "2023-02-09T14:00:11.279263Z"
    }
   },
   "outputs": [
    {
     "data": {
      "text/plain": [
       "[[(2, 'red'), (5, 'blue'), (3, 'orange')],\n",
       " [(4, 'red'), (9, 'blue'), (7, 'orange')],\n",
       " [(8, 'red'), (13, 'blue'), (11, 'orange')]]"
      ]
     },
     "execution_count": 31,
     "metadata": {},
     "output_type": "execute_result"
    }
   ],
   "source": [
    "fix_wagon_depot([\n",
    "                    [(2, \"red\"), (4, \"red\"), (8, \"red\")],\n",
    "                    [(5, \"blue\"), (9, \"blue\"), (13,\"blue\")],\n",
    "                    [(3, \"orange\"), (7, \"orange\"), (11, \"orange\")],\n",
    "                    ])"
   ]
  },
  {
   "cell_type": "code",
   "execution_count": 32,
   "id": "68369eed",
   "metadata": {
    "ExecuteTime": {
     "end_time": "2023-02-09T14:03:20.103904Z",
     "start_time": "2023-02-09T14:03:20.095531Z"
    }
   },
   "outputs": [],
   "source": [
    "wagon_rows = [\n",
    "                    [(2, \"red\"), (4, \"red\"), (8, \"red\")],\n",
    "                    [(5, \"blue\"), (9, \"blue\"), (13,\"blue\")],\n",
    "                    [(3, \"orange\"), (7, \"orange\"), (11, \"orange\")],\n",
    "                    ]"
   ]
  },
  {
   "cell_type": "code",
   "execution_count": 36,
   "id": "53a970b4",
   "metadata": {
    "ExecuteTime": {
     "end_time": "2023-02-09T14:04:18.399083Z",
     "start_time": "2023-02-09T14:04:18.390107Z"
    },
    "scrolled": true
   },
   "outputs": [
    {
     "data": {
      "text/plain": [
       "[[(2, 'red'), (5, 'blue'), (3, 'orange')],\n",
       " [(4, 'red'), (9, 'blue'), (7, 'orange')],\n",
       " [(8, 'red'), (13, 'blue'), (11, 'orange')]]"
      ]
     },
     "execution_count": 36,
     "metadata": {},
     "output_type": "execute_result"
    }
   ],
   "source": [
    "list(map(list, zip(*wagon_rows)))"
   ]
  },
  {
   "cell_type": "code",
   "execution_count": 39,
   "id": "9299c801",
   "metadata": {
    "ExecuteTime": {
     "end_time": "2023-02-09T14:05:52.417008Z",
     "start_time": "2023-02-09T14:05:52.399010Z"
    }
   },
   "outputs": [
    {
     "data": {
      "text/plain": [
       "[((2, 'red'), (5, 'blue'), (3, 'orange')),\n",
       " ((4, 'red'), (9, 'blue'), (7, 'orange')),\n",
       " ((8, 'red'), (13, 'blue'), (11, 'orange'))]"
      ]
     },
     "execution_count": 39,
     "metadata": {},
     "output_type": "execute_result"
    }
   ],
   "source": [
    "list(zip(*wagon_rows))"
   ]
  }
 ],
 "metadata": {
  "kernelspec": {
   "display_name": "Python 3 (ipykernel)",
   "language": "python",
   "name": "python3"
  },
  "language_info": {
   "codemirror_mode": {
    "name": "ipython",
    "version": 3
   },
   "file_extension": ".py",
   "mimetype": "text/x-python",
   "name": "python",
   "nbconvert_exporter": "python",
   "pygments_lexer": "ipython3",
   "version": "3.9.13"
  },
  "toc": {
   "base_numbering": 1,
   "nav_menu": {},
   "number_sections": true,
   "sideBar": true,
   "skip_h1_title": false,
   "title_cell": "Table of Contents",
   "title_sidebar": "Contents",
   "toc_cell": false,
   "toc_position": {},
   "toc_section_display": true,
   "toc_window_display": true
  }
 },
 "nbformat": 4,
 "nbformat_minor": 5
}
