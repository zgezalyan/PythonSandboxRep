{
 "cells": [
  {
   "cell_type": "markdown",
   "id": "615e84a1",
   "metadata": {},
   "source": [
    "# Meltdown"
   ]
  },
  {
   "cell_type": "code",
   "execution_count": null,
   "id": "d4f05e37",
   "metadata": {},
   "outputs": [],
   "source": [
    "\"\"\"Functions to prevent a nuclear meltdown.\"\"\"\n",
    "\n",
    "\n",
    "def is_criticality_balanced(temperature, neutrons_emitted):\n",
    "    \"\"\"Verify criticality is balanced.\n",
    "\n",
    "    :param temperature: int or float - temperature value in kelvin.\n",
    "    :param neutrons_emitted: int or float - number of neutrons emitted per second.\n",
    "    :return: bool - is criticality balanced?\n",
    "\n",
    "    A reactor is said to be critical if it satisfies the following conditions:\n",
    "    - The temperature is less than 800 K.\n",
    "    - The number of neutrons emitted per second is greater than 500.\n",
    "    - The product of temperature and neutrons emitted per second is less than 500000.\n",
    "    \"\"\"\n",
    "    return temperature < 800 and neutrons_emitted > 500 and (temperature * neutrons_emitted) < 500000\n",
    "\n",
    "\n",
    "def reactor_efficiency(voltage, current, theoretical_max_power):\n",
    "    \"\"\"Assess reactor efficiency zone.\n",
    "\n",
    "    :param voltage: int or float - voltage value.\n",
    "    :param current: int or float - current value.\n",
    "    :param theoretical_max_power: int or float - power that corresponds to a 100% efficiency.\n",
    "    :return: str - one of ('green', 'orange', 'red', or 'black').\n",
    "\n",
    "    Efficiency can be grouped into 4 bands:\n",
    "\n",
    "    1. green -> efficiency of 80% or more,\n",
    "    2. orange -> efficiency of less than 80% but at least 60%,\n",
    "    3. red -> efficiency below 60%, but still 30% or more,\n",
    "    4. black ->  less than 30% efficient.\n",
    "\n",
    "    The percentage value is calculated as\n",
    "    (generated power/ theoretical max power)*100\n",
    "    where generated power = voltage * current\n",
    "    \"\"\"\n",
    "    efficiency = ( (voltage * current) / theoretical_max_power ) * 100\n",
    "    if efficiency >= 80:\n",
    "        return 'green'\n",
    "    elif efficiency < 80 and efficiency >= 60:\n",
    "        return 'orange'\n",
    "    elif efficiency < 60 and efficiency >= 30:\n",
    "        return 'red'\n",
    "    else:\n",
    "        return 'black'\n",
    "\n",
    "\n",
    "def fail_safe(temperature, neutrons_produced_per_second, threshold):\n",
    "    \"\"\"Assess and return status code for the reactor.\n",
    "\n",
    "    :param temperature: int or float - value of the temperature in kelvin.\n",
    "    :param neutrons_produced_per_second: int or float - neutron flux.\n",
    "    :param threshold: int or float - threshold for category.\n",
    "    :return: str - one of ('LOW', 'NORMAL', 'DANGER').\n",
    "\n",
    "    1. 'LOW' -> `temperature * neutrons per second` < 90% of `threshold`\n",
    "    2. 'NORMAL' -> `temperature * neutrons per second` +/- 10% of `threshold`\n",
    "    3. 'DANGER' -> `temperature * neutrons per second` is not in the above-stated ranges\n",
    "    \"\"\"\n",
    "    value = temperature * neutrons_produced_per_second\n",
    "    if value < (0.9 * threshold):\n",
    "        return 'LOW'\n",
    "    elif value >= (0.9 * threshold) and value <= (1.1 * threshold):\n",
    "        return 'NORMAL'\n",
    "    else:\n",
    "        return 'DANGER'"
   ]
  },
  {
   "cell_type": "markdown",
   "id": "fb97e6ee",
   "metadata": {},
   "source": [
    "# Bob"
   ]
  },
  {
   "cell_type": "code",
   "execution_count": 28,
   "id": "f806f4f0",
   "metadata": {
    "ExecuteTime": {
     "end_time": "2023-02-15T12:41:14.306026Z",
     "start_time": "2023-02-15T12:41:14.291027Z"
    }
   },
   "outputs": [],
   "source": [
    "def response(hey_bob):\n",
    "    if len(hey_bob.replace(' ', '').replace('\\t', '').replace('\\n', '').replace('\\r', '')) < 1:\n",
    "        return 'Fine. Be that way!'\n",
    "    if hey_bob.replace(' ', '')[-1] == '?' and not hey_bob.isupper():\n",
    "        return 'Sure.'\n",
    "    if hey_bob.isupper() and hey_bob.replace(' ', '')[-1] != '?':\n",
    "        return 'Whoa, chill out!'\n",
    "    if hey_bob.isupper() and hey_bob.replace(' ', '')[-1] == '?':\n",
    "        return 'Calm down, I know what I\\'m doing!'    \n",
    "    return 'Whatever.'"
   ]
  },
  {
   "cell_type": "code",
   "execution_count": 23,
   "id": "2cb05750",
   "metadata": {
    "ExecuteTime": {
     "end_time": "2023-02-15T12:36:16.891271Z",
     "start_time": "2023-02-15T12:36:16.875312Z"
    }
   },
   "outputs": [
    {
     "data": {
      "text/plain": [
       "'Fine. Be that way!'"
      ]
     },
     "execution_count": 23,
     "metadata": {},
     "output_type": "execute_result"
    }
   ],
   "source": [
    "response(\"4?\")"
   ]
  },
  {
   "cell_type": "code",
   "execution_count": 24,
   "id": "16d9ad93",
   "metadata": {
    "ExecuteTime": {
     "end_time": "2023-02-15T12:37:03.175270Z",
     "start_time": "2023-02-15T12:37:03.170284Z"
    }
   },
   "outputs": [
    {
     "data": {
      "text/plain": [
       "True"
      ]
     },
     "execution_count": 24,
     "metadata": {},
     "output_type": "execute_result"
    }
   ],
   "source": [
    "\"4?\".replace(' ', '')[-1] == '?' and "
   ]
  },
  {
   "cell_type": "code",
   "execution_count": 25,
   "id": "aba5e4eb",
   "metadata": {
    "ExecuteTime": {
     "end_time": "2023-02-15T12:37:23.210434Z",
     "start_time": "2023-02-15T12:37:23.194323Z"
    }
   },
   "outputs": [
    {
     "data": {
      "text/plain": [
       "False"
      ]
     },
     "execution_count": 25,
     "metadata": {},
     "output_type": "execute_result"
    }
   ],
   "source": [
    "\"4?\".isupper()"
   ]
  },
  {
   "cell_type": "code",
   "execution_count": 18,
   "id": "7bd9afbb",
   "metadata": {
    "ExecuteTime": {
     "end_time": "2023-02-15T12:33:16.609190Z",
     "start_time": "2023-02-15T12:33:16.602222Z"
    }
   },
   "outputs": [
    {
     "data": {
      "text/plain": [
       "'fdfdrfrrtrttr'"
      ]
     },
     "execution_count": 18,
     "metadata": {},
     "output_type": "execute_result"
    }
   ],
   "source": [
    "'fdfd rfr rt rttr'.replace(' ', '')"
   ]
  },
  {
   "cell_type": "markdown",
   "id": "5a5e2ffb",
   "metadata": {},
   "source": [
    "# Raindrops"
   ]
  },
  {
   "cell_type": "code",
   "execution_count": 1,
   "id": "a34a7e58",
   "metadata": {
    "ExecuteTime": {
     "end_time": "2023-02-16T07:26:09.763348Z",
     "start_time": "2023-02-16T07:26:09.730307Z"
    }
   },
   "outputs": [],
   "source": [
    "def convert(number):\n",
    "    res = ''\n",
    "    if number % 3 != 0 and number % 5 != 0 and number % 7 != 0:\n",
    "        return str(number)\n",
    "    if number % 3 == 0:\n",
    "        res += 'Pling'\n",
    "    if number % 5 == 0:\n",
    "        res += 'Plang'\n",
    "    if number % 7 == 0:\n",
    "        res += 'Plong'\n",
    "    return res"
   ]
  },
  {
   "cell_type": "code",
   "execution_count": 2,
   "id": "1bf8faf1",
   "metadata": {
    "ExecuteTime": {
     "end_time": "2023-02-16T07:26:30.960609Z",
     "start_time": "2023-02-16T07:26:30.945420Z"
    }
   },
   "outputs": [
    {
     "data": {
      "text/plain": [
       "'Plong'"
      ]
     },
     "execution_count": 2,
     "metadata": {},
     "output_type": "execute_result"
    }
   ],
   "source": [
    "convert(28)"
   ]
  },
  {
   "cell_type": "markdown",
   "id": "66e88250",
   "metadata": {},
   "source": [
    "# Pig Latin"
   ]
  },
  {
   "cell_type": "code",
   "execution_count": 14,
   "id": "90491f2f",
   "metadata": {
    "ExecuteTime": {
     "end_time": "2023-02-16T08:53:03.296801Z",
     "start_time": "2023-02-16T08:53:03.284009Z"
    }
   },
   "outputs": [],
   "source": [
    "def translate(text):\n",
    "    single_vowel_sounds = ('a', 'e', 'u', 'i', 'o')\n",
    "    double_vowel_sounds = ('xr', 'yt')    \n",
    "    double_consonant_sounds = ('pp', 'bb', 'tt', 'dd', 'ch', 'ge', 'ck', 'gg', 'ff', 'ph', 'gh', 'th', 'ss', 'sc', 'ce', 'sh', 'mm', 'mb', 'nn', 'kn', 'ng', 'wh', 'll', 'rr', 'wr', 'qu', 'rh')\n",
    "    tripple_consonant_sounds = ('tch', 'dge', 'thr', 'sch')\n",
    "    res = ''\n",
    "    for word in text.split(' '):\n",
    "        res = res + ' ' if len(res) > 0 else res\n",
    "        if word.startswith(single_vowel_sounds) or word.startswith(double_vowel_sounds):\n",
    "            res += word + 'ay'\n",
    "            continue\n",
    "        if word.startswith(tripple_consonant_sounds):\n",
    "            if len(word) > 5:\n",
    "                if word[3:5] == 'qu':\n",
    "                    res += word[5:] + word[0:5] + 'ay'\n",
    "                    continue\n",
    "            res += word[3:] + word[0:3] + 'ay'\n",
    "            continue\n",
    "        if word.startswith(double_consonant_sounds):\n",
    "            if len(word) > 4:\n",
    "                if word[2:4] == 'qu':\n",
    "                    res += word[4:] + word[0:4] + 'ay'\n",
    "                    continue\n",
    "            res += word[2:] + word[0:2] + 'ay'\n",
    "            continue\n",
    "        if len(word) > 3:\n",
    "            if word[1:3] == 'qu':\n",
    "                res += word[3:] + word[0:3] + 'ay'\n",
    "                continue\n",
    "        res += word[1:] + word[0] + 'ay'\n",
    "    return res"
   ]
  },
  {
   "cell_type": "code",
   "execution_count": 4,
   "id": "e2395aa0",
   "metadata": {
    "ExecuteTime": {
     "end_time": "2023-02-16T07:49:57.886205Z",
     "start_time": "2023-02-16T07:49:57.875251Z"
    }
   },
   "outputs": [
    {
     "data": {
      "text/plain": [
       "True"
      ]
     },
     "execution_count": 4,
     "metadata": {},
     "output_type": "execute_result"
    }
   ],
   "source": [
    "'ytaaa'.startswith(('yt', 'er', 'ot'))."
   ]
  },
  {
   "cell_type": "markdown",
   "id": "90b16973",
   "metadata": {},
   "source": [
    "# Matching Brackets"
   ]
  },
  {
   "cell_type": "code",
   "execution_count": 19,
   "id": "55fbda5f",
   "metadata": {
    "ExecuteTime": {
     "end_time": "2023-02-16T09:21:29.507639Z",
     "start_time": "2023-02-16T09:21:29.491167Z"
    }
   },
   "outputs": [],
   "source": [
    "def is_paired(input_string):\n",
    "    reverse_dict = {'{': '}', '[': ']', '(': ')'}    \n",
    "    expected = []\n",
    "    for char in input_string:\n",
    "        if char not in ('(', ')', '[', ']', '{', '}'):\n",
    "            continue\n",
    "        if char in reverse_dict.keys():\n",
    "            expected.append(reverse_dict[char])\n",
    "        else:\n",
    "            if len(expected) == 0:\n",
    "                return False\n",
    "            if char != expected[-1]:\n",
    "                return False\n",
    "            expected = expected[:-1]\n",
    "    return len(expected) == 0"
   ]
  },
  {
   "cell_type": "code",
   "execution_count": 17,
   "id": "1c241b3b",
   "metadata": {
    "ExecuteTime": {
     "end_time": "2023-02-16T09:19:39.432203Z",
     "start_time": "2023-02-16T09:19:39.419206Z"
    }
   },
   "outputs": [
    {
     "data": {
      "text/plain": [
       "[]"
      ]
     },
     "execution_count": 17,
     "metadata": {},
     "output_type": "execute_result"
    }
   ],
   "source": [
    "[1][:-1]"
   ]
  }
 ],
 "metadata": {
  "kernelspec": {
   "display_name": "Python 3 (ipykernel)",
   "language": "python",
   "name": "python3"
  },
  "language_info": {
   "codemirror_mode": {
    "name": "ipython",
    "version": 3
   },
   "file_extension": ".py",
   "mimetype": "text/x-python",
   "name": "python",
   "nbconvert_exporter": "python",
   "pygments_lexer": "ipython3",
   "version": "3.9.13"
  },
  "toc": {
   "base_numbering": 1,
   "nav_menu": {},
   "number_sections": true,
   "sideBar": true,
   "skip_h1_title": false,
   "title_cell": "Table of Contents",
   "title_sidebar": "Contents",
   "toc_cell": false,
   "toc_position": {},
   "toc_section_display": true,
   "toc_window_display": true
  }
 },
 "nbformat": 4,
 "nbformat_minor": 5
}
