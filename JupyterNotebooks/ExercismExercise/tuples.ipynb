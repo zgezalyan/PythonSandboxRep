{
 "cells": [
  {
   "cell_type": "code",
   "execution_count": 1,
   "id": "3c5670c2",
   "metadata": {
    "ExecuteTime": {
     "end_time": "2023-02-09T09:51:42.123186Z",
     "start_time": "2023-02-09T09:51:42.114237Z"
    }
   },
   "outputs": [],
   "source": [
    "def get_coordinate(record):\n",
    "    \"\"\"Return coordinate value from a tuple containing the treasure name, and treasure coordinate.\n",
    "\n",
    "    :param record: tuple - with a (treasure, coordinate) pair.\n",
    "    :return: str - the extracted map coordinate.\n",
    "    \"\"\"\n",
    "    return record[1]"
   ]
  },
  {
   "cell_type": "code",
   "execution_count": 2,
   "id": "bf4777be",
   "metadata": {
    "ExecuteTime": {
     "end_time": "2023-02-09T09:51:56.003849Z",
     "start_time": "2023-02-09T09:51:55.983532Z"
    }
   },
   "outputs": [
    {
     "data": {
      "text/plain": [
       "'2A'"
      ]
     },
     "execution_count": 2,
     "metadata": {},
     "output_type": "execute_result"
    }
   ],
   "source": [
    "get_coordinate(('Scrimshawed Whale Tooth', '2A'))"
   ]
  },
  {
   "cell_type": "code",
   "execution_count": 3,
   "id": "a92cb2ad",
   "metadata": {
    "ExecuteTime": {
     "end_time": "2023-02-09T09:53:04.277873Z",
     "start_time": "2023-02-09T09:53:04.270891Z"
    }
   },
   "outputs": [],
   "source": [
    "def convert_coordinate(coordinate):\n",
    "    \"\"\"Split the given coordinate into tuple containing its individual components.\n",
    "\n",
    "    :param coordinate: str - a string map coordinate\n",
    "    :return: tuple - the string coordinate split into its individual components.\n",
    "    \"\"\"\n",
    "    return coordinate[0], coordinate[1]"
   ]
  },
  {
   "cell_type": "code",
   "execution_count": 4,
   "id": "8fe91476",
   "metadata": {
    "ExecuteTime": {
     "end_time": "2023-02-09T09:53:32.137731Z",
     "start_time": "2023-02-09T09:53:32.120448Z"
    }
   },
   "outputs": [
    {
     "data": {
      "text/plain": [
       "('2', 'A')"
      ]
     },
     "execution_count": 4,
     "metadata": {},
     "output_type": "execute_result"
    }
   ],
   "source": [
    "convert_coordinate(\"2A\")"
   ]
  },
  {
   "cell_type": "code",
   "execution_count": 5,
   "id": "d4e51132",
   "metadata": {
    "ExecuteTime": {
     "end_time": "2023-02-09T09:58:51.056303Z",
     "start_time": "2023-02-09T09:58:51.039007Z"
    }
   },
   "outputs": [],
   "source": [
    "def compare_records(azara_record, rui_record):\n",
    "    \"\"\"Compare two record types and determine if their coordinates match.\n",
    "\n",
    "    :param azara_record: tuple - a (treasure, coordinate) pair.\n",
    "    :param rui_record: tuple - a (location, tuple(coordinate_1, coordinate_2), quadrant) trio.\n",
    "    :return: bool - do the coordinates match?\n",
    "    \"\"\"\n",
    "    return azara_record[1] == rui_record[1][0] + rui_record[1][1]"
   ]
  },
  {
   "cell_type": "code",
   "execution_count": 6,
   "id": "6ef73a77",
   "metadata": {
    "ExecuteTime": {
     "end_time": "2023-02-09T09:59:09.124420Z",
     "start_time": "2023-02-09T09:59:09.112582Z"
    }
   },
   "outputs": [
    {
     "data": {
      "text/plain": [
       "False"
      ]
     },
     "execution_count": 6,
     "metadata": {},
     "output_type": "execute_result"
    }
   ],
   "source": [
    "compare_records(('Brass Spyglass', '4B'), ('Seaside Cottages', ('1', 'C'), 'blue'))"
   ]
  },
  {
   "cell_type": "code",
   "execution_count": 7,
   "id": "726c0924",
   "metadata": {
    "ExecuteTime": {
     "end_time": "2023-02-09T09:59:20.809727Z",
     "start_time": "2023-02-09T09:59:20.791842Z"
    }
   },
   "outputs": [
    {
     "data": {
      "text/plain": [
       "True"
      ]
     },
     "execution_count": 7,
     "metadata": {},
     "output_type": "execute_result"
    }
   ],
   "source": [
    "compare_records(('Model Ship in Large Bottle', '8A'), ('Harbor Managers Office', ('8', 'A'), 'purple'))"
   ]
  },
  {
   "cell_type": "code",
   "execution_count": 8,
   "id": "8000decc",
   "metadata": {
    "ExecuteTime": {
     "end_time": "2023-02-09T10:02:19.367310Z",
     "start_time": "2023-02-09T10:02:19.359357Z"
    }
   },
   "outputs": [],
   "source": [
    "def create_record(azara_record, rui_record):\n",
    "    \"\"\"Combine the two record types (if possible) and create a combined record group.\n",
    "\n",
    "    :param azara_record: tuple - a (treasure, coordinate) pair.\n",
    "    :param rui_record: tuple - a (location, coordinate, quadrant) trio.\n",
    "    :return: tuple or str - the combined record (if compatible), or the string \"not a match\" (if incompatible).\n",
    "    \"\"\"\n",
    "    if azara_record[1] == rui_record[1][0] + rui_record[1][1]:\n",
    "        return azara_record + rui_record\n",
    "    return 'not a match'"
   ]
  },
  {
   "cell_type": "code",
   "execution_count": 9,
   "id": "98eec442",
   "metadata": {
    "ExecuteTime": {
     "end_time": "2023-02-09T10:03:07.151902Z",
     "start_time": "2023-02-09T10:03:07.142951Z"
    }
   },
   "outputs": [
    {
     "data": {
      "text/plain": [
       "('Brass Spyglass', '4B', 'Abandoned Lighthouse', ('4', 'B'), 'Blue')"
      ]
     },
     "execution_count": 9,
     "metadata": {},
     "output_type": "execute_result"
    }
   ],
   "source": [
    "create_record(('Brass Spyglass', '4B'), ('Abandoned Lighthouse', ('4', 'B'), 'Blue'))"
   ]
  },
  {
   "cell_type": "code",
   "execution_count": 10,
   "id": "2f5b7fc4",
   "metadata": {
    "ExecuteTime": {
     "end_time": "2023-02-09T10:03:32.769099Z",
     "start_time": "2023-02-09T10:03:32.757937Z"
    }
   },
   "outputs": [
    {
     "data": {
      "text/plain": [
       "'not a match'"
      ]
     },
     "execution_count": 10,
     "metadata": {},
     "output_type": "execute_result"
    }
   ],
   "source": [
    "create_record(('Brass Spyglass', '4B'), ('Seaside Cottages', ('1', 'C'), 'blue'))"
   ]
  },
  {
   "cell_type": "code",
   "execution_count": 42,
   "id": "bae5927f",
   "metadata": {
    "ExecuteTime": {
     "end_time": "2023-02-09T10:42:59.871939Z",
     "start_time": "2023-02-09T10:42:59.852914Z"
    }
   },
   "outputs": [],
   "source": [
    "def clean_up(combined_record_group):\n",
    "    \"\"\"Clean up a combined record group into a multi-line string of single records.\n",
    "\n",
    "    :param combined_record_group: tuple - everything from both participants.\n",
    "    :return: str - everything \"cleaned\", excess coordinates and information are removed.\n",
    "\n",
    "    The return statement should be a multi-lined string with items separated by newlines.\n",
    "\n",
    "    (see HINTS.md for an example).\n",
    "    \"\"\"\n",
    "    res = ''\n",
    "    for record in combined_record_group:\n",
    "        res += str((record[0], record[2], record[3], record[4], ) ) + '\\n'\n",
    "    return res"
   ]
  },
  {
   "cell_type": "code",
   "execution_count": 14,
   "id": "a4e62fe5",
   "metadata": {
    "ExecuteTime": {
     "end_time": "2023-02-09T10:12:17.931761Z",
     "start_time": "2023-02-09T10:12:17.917796Z"
    }
   },
   "outputs": [
    {
     "data": {
      "text/plain": [
       "\"\\n('Brass Spyglass', '4B', 'Abandoned Lighthouse', ('4', 'B'), 'Blue')\\n('Vintage Pirate Hat', '7E', 'Quiet Inlet (Island of Mystery)', ('7', 'E'), 'Orange')\\n('Crystal Crab', '6A', 'Old Schooner', ('6', 'A'), 'Purple')\\n\""
      ]
     },
     "execution_count": 14,
     "metadata": {},
     "output_type": "execute_result"
    }
   ],
   "source": [
    "clean_up((('Brass Spyglass', '4B', 'Abandoned Lighthouse', ('4', 'B'), 'Blue'), ('Vintage Pirate Hat', '7E', 'Quiet Inlet (Island of Mystery)', ('7', 'E'), 'Orange'), ('Crystal Crab', '6A', 'Old Schooner', ('6', 'A'), 'Purple')))"
   ]
  },
  {
   "cell_type": "code",
   "execution_count": 43,
   "id": "fda6392b",
   "metadata": {
    "ExecuteTime": {
     "end_time": "2023-02-09T10:43:02.078835Z",
     "start_time": "2023-02-09T10:43:02.059322Z"
    }
   },
   "outputs": [
    {
     "data": {
      "text/plain": [
       "\"('Scrimshawed Whale Tooth', 'Deserted Docks', ('2', 'A'), 'Blue')\\n\""
      ]
     },
     "execution_count": 43,
     "metadata": {},
     "output_type": "execute_result"
    }
   ],
   "source": [
    "clean_up((('Scrimshawed Whale Tooth', '2A', 'Deserted Docks', ('2', 'A'), 'Blue'), ))"
   ]
  }
 ],
 "metadata": {
  "kernelspec": {
   "display_name": "Python 3 (ipykernel)",
   "language": "python",
   "name": "python3"
  },
  "language_info": {
   "codemirror_mode": {
    "name": "ipython",
    "version": 3
   },
   "file_extension": ".py",
   "mimetype": "text/x-python",
   "name": "python",
   "nbconvert_exporter": "python",
   "pygments_lexer": "ipython3",
   "version": "3.9.13"
  },
  "toc": {
   "base_numbering": 1,
   "nav_menu": {},
   "number_sections": true,
   "sideBar": true,
   "skip_h1_title": false,
   "title_cell": "Table of Contents",
   "title_sidebar": "Contents",
   "toc_cell": false,
   "toc_position": {},
   "toc_section_display": true,
   "toc_window_display": true
  }
 },
 "nbformat": 4,
 "nbformat_minor": 5
}
