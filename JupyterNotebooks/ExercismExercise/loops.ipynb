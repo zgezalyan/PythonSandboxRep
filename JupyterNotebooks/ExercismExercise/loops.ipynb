{
 "cells": [
  {
   "cell_type": "code",
   "execution_count": 9,
   "id": "ee369500",
   "metadata": {
    "ExecuteTime": {
     "end_time": "2023-02-09T07:24:16.562472Z",
     "start_time": "2023-02-09T07:24:16.552511Z"
    }
   },
   "outputs": [],
   "source": [
    "def round_scores(student_scores):\n",
    "    \"\"\"Round all provided student scores.\n",
    "\n",
    "    :param student_scores: list - float or int of student exam scores.\n",
    "    :return: list - student scores *rounded* to nearest integer value.\n",
    "    \"\"\"\n",
    "    res = []\n",
    "    for score in student_scores:\n",
    "        res.append(round(score))\n",
    "    return res"
   ]
  },
  {
   "cell_type": "code",
   "execution_count": 10,
   "id": "85576cdc",
   "metadata": {
    "ExecuteTime": {
     "end_time": "2023-02-09T07:24:18.667066Z",
     "start_time": "2023-02-09T07:24:18.656145Z"
    }
   },
   "outputs": [
    {
     "data": {
      "text/plain": [
       "[90, 40, 55, 70, 31, 25, 80, 95, 39, 40]"
      ]
     },
     "execution_count": 10,
     "metadata": {},
     "output_type": "execute_result"
    }
   ],
   "source": [
    "round_scores([90.33, 40.5, 55.44, 70.05, 30.55, 25.45, 80.45, 95.3, 38.7, 40.3])"
   ]
  },
  {
   "cell_type": "code",
   "execution_count": 11,
   "id": "b7473f48",
   "metadata": {
    "ExecuteTime": {
     "end_time": "2023-02-09T07:28:49.758770Z",
     "start_time": "2023-02-09T07:28:49.752783Z"
    }
   },
   "outputs": [],
   "source": [
    "def count_failed_students(student_scores):\n",
    "    \"\"\"Count the number of failing students out of the group provided.\n",
    "\n",
    "    :param student_scores: list - containing int student scores.\n",
    "    :return: int - count of student scores at or below 40.\n",
    "    \"\"\"\n",
    "    res = 0\n",
    "    for score in student_scores:\n",
    "        if score <= 40:\n",
    "            res += 1\n",
    "    return res"
   ]
  },
  {
   "cell_type": "code",
   "execution_count": 12,
   "id": "6ea0dd49",
   "metadata": {
    "ExecuteTime": {
     "end_time": "2023-02-09T07:29:06.504098Z",
     "start_time": "2023-02-09T07:29:06.497089Z"
    }
   },
   "outputs": [
    {
     "data": {
      "text/plain": [
       "5"
      ]
     },
     "execution_count": 12,
     "metadata": {},
     "output_type": "execute_result"
    }
   ],
   "source": [
    "count_failed_students(student_scores=[90,40,55,70,30,25,80,95,38,40])"
   ]
  },
  {
   "cell_type": "code",
   "execution_count": 13,
   "id": "fb71891e",
   "metadata": {
    "ExecuteTime": {
     "end_time": "2023-02-09T07:37:33.712933Z",
     "start_time": "2023-02-09T07:37:33.695947Z"
    }
   },
   "outputs": [],
   "source": [
    "def above_threshold(student_scores, threshold):\n",
    "    \"\"\"Determine how many of the provided student scores were 'the best' based on the provided threshold.\n",
    "\n",
    "    :param student_scores: list - of integer scores.\n",
    "    :param threshold: int - threshold to cross to be the \"best\" score.\n",
    "    :return: list - of integer scores that are at or above the \"best\" threshold.\n",
    "    \"\"\"\n",
    "    res = []\n",
    "    for score in student_scores:\n",
    "        if score >= threshold:\n",
    "            res.append(score)\n",
    "    return res"
   ]
  },
  {
   "cell_type": "code",
   "execution_count": 14,
   "id": "ff3a5a41",
   "metadata": {
    "ExecuteTime": {
     "end_time": "2023-02-09T07:37:53.084455Z",
     "start_time": "2023-02-09T07:37:53.079468Z"
    }
   },
   "outputs": [
    {
     "data": {
      "text/plain": [
       "[90, 75, 83, 96]"
      ]
     },
     "execution_count": 14,
     "metadata": {},
     "output_type": "execute_result"
    }
   ],
   "source": [
    "above_threshold(student_scores=[90,40,55,70,30,68,70,75,83,96], threshold=75)"
   ]
  },
  {
   "cell_type": "code",
   "execution_count": 17,
   "id": "e8f89355",
   "metadata": {
    "ExecuteTime": {
     "end_time": "2023-02-09T09:07:03.910480Z",
     "start_time": "2023-02-09T09:07:03.899221Z"
    }
   },
   "outputs": [],
   "source": [
    "def letter_grades(highest):\n",
    "    \"\"\"Create a list of grade thresholds based on the provided highest grade.\n",
    "\n",
    "    :param highest: int - value of highest exam score.\n",
    "    :return: list - of lower threshold scores for each D-A letter grade interval.\n",
    "            For example, where the highest score is 100, and failing is <= 40,\n",
    "            The result would be [41, 56, 71, 86]:\n",
    "\n",
    "            41 <= \"D\" <= 55\n",
    "            56 <= \"C\" <= 70\n",
    "            71 <= \"B\" <= 85\n",
    "            86 <= \"A\" <= 100\n",
    "    \"\"\"\n",
    "    gap = round((highest - 40) / 4)\n",
    "    res = [41]\n",
    "    for step in range(3):\n",
    "        res.append(res[step] + gap)\n",
    "    return res"
   ]
  },
  {
   "cell_type": "code",
   "execution_count": 18,
   "id": "bce217fa",
   "metadata": {
    "ExecuteTime": {
     "end_time": "2023-02-09T09:07:06.558283Z",
     "start_time": "2023-02-09T09:07:06.538248Z"
    }
   },
   "outputs": [
    {
     "data": {
      "text/plain": [
       "[41, 56, 71, 86]"
      ]
     },
     "execution_count": 18,
     "metadata": {},
     "output_type": "execute_result"
    }
   ],
   "source": [
    "letter_grades(highest=100)"
   ]
  },
  {
   "cell_type": "code",
   "execution_count": 19,
   "id": "5a326835",
   "metadata": {
    "ExecuteTime": {
     "end_time": "2023-02-09T09:07:17.721973Z",
     "start_time": "2023-02-09T09:07:17.705861Z"
    }
   },
   "outputs": [
    {
     "data": {
      "text/plain": [
       "[41, 53, 65, 77]"
      ]
     },
     "execution_count": 19,
     "metadata": {},
     "output_type": "execute_result"
    }
   ],
   "source": [
    "letter_grades(highest=88)"
   ]
  },
  {
   "cell_type": "code",
   "execution_count": 22,
   "id": "f04e9e47",
   "metadata": {
    "ExecuteTime": {
     "end_time": "2023-02-09T09:15:32.560445Z",
     "start_time": "2023-02-09T09:15:32.553479Z"
    }
   },
   "outputs": [],
   "source": [
    "def student_ranking(student_scores, student_names):\n",
    "    \"\"\"Organize the student's rank, name, and grade information in ascending order.\n",
    "\n",
    "    :param student_scores: list - of scores in descending order.\n",
    "    :param student_names: list - of string names by exam score in descending order.\n",
    "    :return: list - of strings in format [\"<rank>. <student name>: <score>\"].\n",
    "    \"\"\"\n",
    "    res = []\n",
    "    for pos, score in enumerate(student_scores):\n",
    "        res.append(str(pos + 1) + '. ' + student_names[pos] + ': ' + str(score))\n",
    "    return res"
   ]
  },
  {
   "cell_type": "code",
   "execution_count": 23,
   "id": "a2b28a7c",
   "metadata": {
    "ExecuteTime": {
     "end_time": "2023-02-09T09:15:34.655190Z",
     "start_time": "2023-02-09T09:15:34.641058Z"
    }
   },
   "outputs": [
    {
     "data": {
      "text/plain": [
       "['1. Joci: 100',\n",
       " '2. Sara: 99',\n",
       " '3. Kora: 90',\n",
       " '4. Jan: 84',\n",
       " '5. John: 66',\n",
       " '6. Bern: 53',\n",
       " '7. Fred: 47']"
      ]
     },
     "execution_count": 23,
     "metadata": {},
     "output_type": "execute_result"
    }
   ],
   "source": [
    "student_ranking([100, 99, 90, 84, 66, 53, 47], ['Joci', 'Sara','Kora','Jan','John','Bern', 'Fred'])"
   ]
  },
  {
   "cell_type": "code",
   "execution_count": 28,
   "id": "28705986",
   "metadata": {
    "ExecuteTime": {
     "end_time": "2023-02-09T09:32:52.949514Z",
     "start_time": "2023-02-09T09:32:52.937165Z"
    }
   },
   "outputs": [],
   "source": [
    "def perfect_score(student_info):\n",
    "    \"\"\"Create a list that contains the name and grade of the first student to make a perfect score on the exam.\n",
    "\n",
    "    :param student_info: list - of [<student name>, <score>] lists.\n",
    "    :return: list - first `[<student name>, 100]` or `[]` if no student score of 100 is found.\n",
    "    \"\"\"\n",
    "    for info in student_info:\n",
    "        if info[1] == 100:\n",
    "            return info\n",
    "    return []"
   ]
  },
  {
   "cell_type": "code",
   "execution_count": 29,
   "id": "dc218726",
   "metadata": {
    "ExecuteTime": {
     "end_time": "2023-02-09T09:32:55.489176Z",
     "start_time": "2023-02-09T09:32:55.480479Z"
    }
   },
   "outputs": [
    {
     "data": {
      "text/plain": [
       "['Alex', 100]"
      ]
     },
     "execution_count": 29,
     "metadata": {},
     "output_type": "execute_result"
    }
   ],
   "source": [
    "perfect_score(student_info=[[\"Charles\", 90], [\"Tony\", 80], [\"Alex\", 100]])"
   ]
  },
  {
   "cell_type": "code",
   "execution_count": 30,
   "id": "e9933eee",
   "metadata": {
    "ExecuteTime": {
     "end_time": "2023-02-09T09:32:58.147170Z",
     "start_time": "2023-02-09T09:32:58.136200Z"
    }
   },
   "outputs": [
    {
     "data": {
      "text/plain": [
       "[]"
      ]
     },
     "execution_count": 30,
     "metadata": {},
     "output_type": "execute_result"
    }
   ],
   "source": [
    "perfect_score(student_info=[[\"Charles\", 90], [\"Tony\", 80]])"
   ]
  }
 ],
 "metadata": {
  "kernelspec": {
   "display_name": "Python 3 (ipykernel)",
   "language": "python",
   "name": "python3"
  },
  "language_info": {
   "codemirror_mode": {
    "name": "ipython",
    "version": 3
   },
   "file_extension": ".py",
   "mimetype": "text/x-python",
   "name": "python",
   "nbconvert_exporter": "python",
   "pygments_lexer": "ipython3",
   "version": "3.9.13"
  },
  "toc": {
   "base_numbering": 1,
   "nav_menu": {},
   "number_sections": true,
   "sideBar": true,
   "skip_h1_title": false,
   "title_cell": "Table of Contents",
   "title_sidebar": "Contents",
   "toc_cell": false,
   "toc_position": {},
   "toc_section_display": true,
   "toc_window_display": true
  }
 },
 "nbformat": 4,
 "nbformat_minor": 5
}
