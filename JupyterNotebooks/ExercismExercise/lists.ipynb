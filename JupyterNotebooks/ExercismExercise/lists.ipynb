{
 "cells": [
  {
   "cell_type": "code",
   "execution_count": 1,
   "id": "662cb8da",
   "metadata": {
    "ExecuteTime": {
     "end_time": "2023-02-08T11:33:59.498403Z",
     "start_time": "2023-02-08T11:33:59.480902Z"
    }
   },
   "outputs": [],
   "source": [
    "def get_rounds(number):\n",
    "    \"\"\"Create a list containing the current and next two round numbers.\n",
    "\n",
    "    :param number: int - current round number.\n",
    "    :return: list - current round and the two that follow.\n",
    "    \"\"\"\n",
    "    if not isinstance(number, int):\n",
    "        raise TypeError('Argument should be integer')\n",
    "    return [number, number + 1, number + 2]"
   ]
  },
  {
   "cell_type": "code",
   "execution_count": 2,
   "id": "bed95077",
   "metadata": {
    "ExecuteTime": {
     "end_time": "2023-02-08T11:34:12.784254Z",
     "start_time": "2023-02-08T11:34:12.763686Z"
    }
   },
   "outputs": [
    {
     "data": {
      "text/plain": [
       "[27, 28, 29]"
      ]
     },
     "execution_count": 2,
     "metadata": {},
     "output_type": "execute_result"
    }
   ],
   "source": [
    "get_rounds(27)"
   ]
  },
  {
   "cell_type": "code",
   "execution_count": 3,
   "id": "5fe661c3",
   "metadata": {
    "ExecuteTime": {
     "end_time": "2023-02-08T11:36:46.348571Z",
     "start_time": "2023-02-08T11:36:46.339627Z"
    }
   },
   "outputs": [],
   "source": [
    "def concatenate_rounds(rounds_1, rounds_2):\n",
    "    \"\"\"Concatenate two lists of round numbers.\n",
    "\n",
    "    :param rounds_1: list - first rounds played.\n",
    "    :param rounds_2: list - second set of rounds played.\n",
    "    :return: list - all rounds played.\n",
    "    \"\"\"\n",
    "    if not isinstance(rounds_1, list) or not isinstance(rounds_2, list):\n",
    "        raise TypeError('Arguments should be lists')\n",
    "    return rounds_1 + rounds_2"
   ]
  },
  {
   "cell_type": "code",
   "execution_count": 4,
   "id": "7e16c085",
   "metadata": {
    "ExecuteTime": {
     "end_time": "2023-02-08T11:37:05.828808Z",
     "start_time": "2023-02-08T11:37:05.819798Z"
    }
   },
   "outputs": [
    {
     "data": {
      "text/plain": [
       "[1, 2, 4, 3, 6, 7]"
      ]
     },
     "execution_count": 4,
     "metadata": {},
     "output_type": "execute_result"
    }
   ],
   "source": [
    "concatenate_rounds([1, 2, 4], [3, 6, 7])"
   ]
  },
  {
   "cell_type": "code",
   "execution_count": 5,
   "id": "9cf18355",
   "metadata": {
    "ExecuteTime": {
     "end_time": "2023-02-08T11:39:35.743389Z",
     "start_time": "2023-02-08T11:39:35.727434Z"
    }
   },
   "outputs": [],
   "source": [
    "def list_contains_round(rounds, number):\n",
    "    \"\"\"Check if the list of rounds contains the specified number.\n",
    "\n",
    "    :param rounds: list - rounds played.\n",
    "    :param number: int - round number.\n",
    "    :return: bool - was the round played?\n",
    "    \"\"\"\n",
    "    if not isinstance(rounds, list) or not isinstance(number, int):\n",
    "        raise TypeError('Arguments should be lists and integer')\n",
    "    return number in rounds"
   ]
  },
  {
   "cell_type": "code",
   "execution_count": 7,
   "id": "3b00a238",
   "metadata": {
    "ExecuteTime": {
     "end_time": "2023-02-08T11:40:05.147930Z",
     "start_time": "2023-02-08T11:40:05.139924Z"
    }
   },
   "outputs": [
    {
     "data": {
      "text/plain": [
       "False"
      ]
     },
     "execution_count": 7,
     "metadata": {},
     "output_type": "execute_result"
    }
   ],
   "source": [
    "list_contains_round([1, 5, 78], 79)"
   ]
  },
  {
   "cell_type": "code",
   "execution_count": 8,
   "id": "8549582c",
   "metadata": {
    "ExecuteTime": {
     "end_time": "2023-02-08T11:44:54.832073Z",
     "start_time": "2023-02-08T11:44:54.813912Z"
    }
   },
   "outputs": [],
   "source": [
    "def card_average(hand):\n",
    "    \"\"\"Calculate and returns the average card value from the list.\n",
    "\n",
    "    :param hand: list - cards in hand.\n",
    "    :return: float - average value of the cards in the hand.\n",
    "    \"\"\"\n",
    "    if not isinstance(hand, list):\n",
    "        raise TypeError('Argument should be list')\n",
    "    return sum(hand) / len(hand)"
   ]
  },
  {
   "cell_type": "code",
   "execution_count": 9,
   "id": "e278eb7f",
   "metadata": {
    "ExecuteTime": {
     "end_time": "2023-02-08T11:45:18.292535Z",
     "start_time": "2023-02-08T11:45:18.283558Z"
    }
   },
   "outputs": [
    {
     "data": {
      "text/plain": [
       "27.0"
      ]
     },
     "execution_count": 9,
     "metadata": {},
     "output_type": "execute_result"
    }
   ],
   "source": [
    "card_average([26, 27, 28])"
   ]
  },
  {
   "cell_type": "code",
   "execution_count": 49,
   "id": "f4919772",
   "metadata": {
    "ExecuteTime": {
     "end_time": "2023-02-08T12:51:16.201028Z",
     "start_time": "2023-02-08T12:51:16.182926Z"
    }
   },
   "outputs": [],
   "source": [
    "def approx_average_is_average(hand):\n",
    "    \"\"\"Return if an average is using (first + last index values ) OR ('middle' card) == calculated average.\n",
    "\n",
    "    :param hand: list - cards in hand.\n",
    "    :return: bool - does one of the approximate averages equal the `true average`?\n",
    "    \"\"\"\n",
    "    if not isinstance(hand, list):\n",
    "        raise TypeError('Argument should be list')\n",
    "    first_var = (hand[0] + hand[-1]) / 2\n",
    "    second_var = hand[int(len(hand)/ 2)]\n",
    "    real_var = sum(hand) / len(hand)\n",
    "    return real_var in (first_var, second_var)"
   ]
  },
  {
   "cell_type": "code",
   "execution_count": 48,
   "id": "8c81436f",
   "metadata": {
    "ExecuteTime": {
     "end_time": "2023-02-08T12:50:28.310477Z",
     "start_time": "2023-02-08T12:50:28.303495Z"
    }
   },
   "outputs": [
    {
     "data": {
      "text/plain": [
       "True"
      ]
     },
     "execution_count": 48,
     "metadata": {},
     "output_type": "execute_result"
    }
   ],
   "source": [
    "approx_average_is_average([1, 2, 3])"
   ]
  },
  {
   "cell_type": "code",
   "execution_count": 50,
   "id": "fab0d58f",
   "metadata": {
    "ExecuteTime": {
     "end_time": "2023-02-08T12:54:39.553555Z",
     "start_time": "2023-02-08T12:54:39.543426Z"
    }
   },
   "outputs": [],
   "source": [
    "def average_even_is_average_odd(hand):\n",
    "    \"\"\"Return if the (average of even indexed card values) == (average of odd indexed card values).\n",
    "\n",
    "    :param hand: list - cards in hand.\n",
    "    :return: bool - are even and odd averages equal?\n",
    "    \"\"\"\n",
    "    if not isinstance(hand, list):\n",
    "        raise TypeError('Argument should be list')\n",
    "    odds = []\n",
    "    even = []\n",
    "    for card_idx, card in enumerate(hand):\n",
    "        if card_idx % 2 == 1:\n",
    "            odds.append(card)\n",
    "        else:\n",
    "            even.append(card)\n",
    "    return (sum(odds) / len(odds)) == (sum(even) / len(even))"
   ]
  },
  {
   "cell_type": "code",
   "execution_count": 51,
   "id": "22bca4aa",
   "metadata": {
    "ExecuteTime": {
     "end_time": "2023-02-08T12:54:41.009664Z",
     "start_time": "2023-02-08T12:54:40.998695Z"
    }
   },
   "outputs": [
    {
     "data": {
      "text/plain": [
       "True"
      ]
     },
     "execution_count": 51,
     "metadata": {},
     "output_type": "execute_result"
    }
   ],
   "source": [
    "average_even_is_average_odd([3, 2, 3, 4])"
   ]
  },
  {
   "cell_type": "code",
   "execution_count": 30,
   "id": "6edc884d",
   "metadata": {
    "ExecuteTime": {
     "end_time": "2023-02-08T12:25:34.653649Z",
     "start_time": "2023-02-08T12:25:34.640424Z"
    }
   },
   "outputs": [],
   "source": [
    "def maybe_double_last(hand):\n",
    "    \"\"\"Multiply a Jack card value in the last index position by 2.\n",
    "\n",
    "    :param hand: list - cards in hand.\n",
    "    :return: list - hand with Jacks (if present) value doubled.\n",
    "    \"\"\"\n",
    "    if not isinstance(hand, list):\n",
    "        raise TypeError('Argument should be list')\n",
    "    if hand[-1] == 11:\n",
    "        hand[-1] = 22\n",
    "    return hand"
   ]
  },
  {
   "cell_type": "code",
   "execution_count": 32,
   "id": "cda95bc6",
   "metadata": {
    "ExecuteTime": {
     "end_time": "2023-02-08T12:26:42.356377Z",
     "start_time": "2023-02-08T12:26:42.336385Z"
    }
   },
   "outputs": [
    {
     "data": {
      "text/plain": [
       "[1, 2, 4, 5, 22]"
      ]
     },
     "execution_count": 32,
     "metadata": {},
     "output_type": "execute_result"
    }
   ],
   "source": [
    "maybe_double_last([1, 2, 4, 5, 11])"
   ]
  }
 ],
 "metadata": {
  "kernelspec": {
   "display_name": "Python 3 (ipykernel)",
   "language": "python",
   "name": "python3"
  },
  "language_info": {
   "codemirror_mode": {
    "name": "ipython",
    "version": 3
   },
   "file_extension": ".py",
   "mimetype": "text/x-python",
   "name": "python",
   "nbconvert_exporter": "python",
   "pygments_lexer": "ipython3",
   "version": "3.9.13"
  },
  "toc": {
   "base_numbering": 1,
   "nav_menu": {},
   "number_sections": true,
   "sideBar": true,
   "skip_h1_title": false,
   "title_cell": "Table of Contents",
   "title_sidebar": "Contents",
   "toc_cell": false,
   "toc_position": {},
   "toc_section_display": true,
   "toc_window_display": true
  }
 },
 "nbformat": 4,
 "nbformat_minor": 5
}
