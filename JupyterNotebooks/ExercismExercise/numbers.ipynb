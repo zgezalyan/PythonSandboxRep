{
 "cells": [
  {
   "cell_type": "code",
   "execution_count": 10,
   "id": "ae5f37db",
   "metadata": {
    "ExecuteTime": {
     "end_time": "2023-02-14T12:25:15.876745Z",
     "start_time": "2023-02-14T12:25:15.849371Z"
    }
   },
   "outputs": [],
   "source": [
    "import random\n",
    "import unittest"
   ]
  },
  {
   "cell_type": "markdown",
   "id": "7491ee35",
   "metadata": {},
   "source": [
    "# Currency"
   ]
  },
  {
   "cell_type": "code",
   "execution_count": null,
   "id": "c24456f6",
   "metadata": {
    "ExecuteTime": {
     "end_time": "2023-02-14T06:31:39.843263Z",
     "start_time": "2023-02-14T06:31:39.820810Z"
    }
   },
   "outputs": [],
   "source": [
    "def exchange_money(budget, exchange_rate):\n",
    "    \"\"\"\n",
    "\n",
    "    :param budget: float - amount of money you are planning to exchange.\n",
    "    :param exchange_rate: float - unit value of the foreign currency.\n",
    "    :return: float - exchanged value of the foreign currency you can receive.\n",
    "    \"\"\"\n",
    "    return budget / exchange_rate"
   ]
  },
  {
   "cell_type": "code",
   "execution_count": null,
   "id": "87e0e546",
   "metadata": {
    "ExecuteTime": {
     "end_time": "2023-02-14T06:31:40.761688Z",
     "start_time": "2023-02-14T06:31:40.747584Z"
    }
   },
   "outputs": [],
   "source": [
    "exchange_money(127.5, 1.2)"
   ]
  },
  {
   "cell_type": "code",
   "execution_count": null,
   "id": "5525067f",
   "metadata": {
    "ExecuteTime": {
     "end_time": "2023-02-14T06:32:03.724040Z",
     "start_time": "2023-02-14T06:32:03.706168Z"
    }
   },
   "outputs": [],
   "source": [
    "def get_change(budget, exchanging_value):\n",
    "    \"\"\"\n",
    "\n",
    "    :param budget: float - amount of money you own.\n",
    "    :param exchanging_value: float - amount of your money you want to exchange now.\n",
    "    :return: float - amount left of your starting currency after exchanging.\n",
    "    \"\"\"\n",
    "    return budget - exchanging_value"
   ]
  },
  {
   "cell_type": "code",
   "execution_count": null,
   "id": "1ac2f52c",
   "metadata": {
    "ExecuteTime": {
     "end_time": "2023-02-14T06:32:04.688060Z",
     "start_time": "2023-02-14T06:32:04.673935Z"
    }
   },
   "outputs": [],
   "source": [
    "get_change(127.5, 120)"
   ]
  },
  {
   "cell_type": "code",
   "execution_count": null,
   "id": "1f61437b",
   "metadata": {
    "ExecuteTime": {
     "end_time": "2023-02-14T06:32:28.464833Z",
     "start_time": "2023-02-14T06:32:28.457850Z"
    }
   },
   "outputs": [],
   "source": [
    "def get_value_of_bills(denomination, number_of_bills):\n",
    "    \"\"\"\n",
    "\n",
    "    :param denomination: int - the value of a bill.\n",
    "    :param number_of_bills: int - amount of bills you received.\n",
    "    :return: int - total value of bills you now have.\n",
    "    \"\"\"\n",
    "    return denomination * number_of_bills"
   ]
  },
  {
   "cell_type": "code",
   "execution_count": null,
   "id": "40eba66f",
   "metadata": {
    "ExecuteTime": {
     "end_time": "2023-02-14T06:32:29.351281Z",
     "start_time": "2023-02-14T06:32:29.337930Z"
    }
   },
   "outputs": [],
   "source": [
    "get_value_of_bills(5, 128)"
   ]
  },
  {
   "cell_type": "code",
   "execution_count": null,
   "id": "68b7ebfb",
   "metadata": {
    "ExecuteTime": {
     "end_time": "2023-02-14T06:33:06.997987Z",
     "start_time": "2023-02-14T06:33:06.979033Z"
    }
   },
   "outputs": [],
   "source": [
    "def get_number_of_bills(budget, denomination):\n",
    "    \"\"\"\n",
    "\n",
    "    :param budget: float - the amount of money you are planning to exchange.\n",
    "    :param denomination: int - the value of a single bill.\n",
    "    :return: int - number of bills after exchanging all your money.\n",
    "    \"\"\"\n",
    "    return budget // denomination"
   ]
  },
  {
   "cell_type": "code",
   "execution_count": null,
   "id": "2b75daae",
   "metadata": {
    "ExecuteTime": {
     "end_time": "2023-02-14T06:33:08.056318Z",
     "start_time": "2023-02-14T06:33:08.042356Z"
    }
   },
   "outputs": [],
   "source": [
    "get_number_of_bills(127.5, 5)"
   ]
  },
  {
   "cell_type": "code",
   "execution_count": null,
   "id": "ec90667e",
   "metadata": {
    "ExecuteTime": {
     "end_time": "2023-02-14T06:33:41.929803Z",
     "start_time": "2023-02-14T06:33:41.915369Z"
    }
   },
   "outputs": [],
   "source": [
    "def get_leftover_of_bills(budget, denomination):\n",
    "    \"\"\"\n",
    "\n",
    "    :param budget: float - the amount of money you are planning to exchange.\n",
    "    :param denomination: int - the value of a single bill.\n",
    "    :return: float - the leftover amount that cannot be exchanged given the current denomination.\n",
    "    \"\"\"\n",
    "    return budget % denomination"
   ]
  },
  {
   "cell_type": "code",
   "execution_count": null,
   "id": "6cc36320",
   "metadata": {
    "ExecuteTime": {
     "end_time": "2023-02-14T06:33:42.766656Z",
     "start_time": "2023-02-14T06:33:42.753594Z"
    }
   },
   "outputs": [],
   "source": [
    "get_leftover_of_bills(127.5, 20)"
   ]
  },
  {
   "cell_type": "code",
   "execution_count": null,
   "id": "e61d76a0",
   "metadata": {
    "ExecuteTime": {
     "end_time": "2023-02-14T06:34:22.011874Z",
     "start_time": "2023-02-14T06:34:22.002659Z"
    }
   },
   "outputs": [],
   "source": [
    "def exchangeable_value(budget, exchange_rate, spread, denomination):\n",
    "    \"\"\"\n",
    "\n",
    "    :param budget: float - the amount of your money you are planning to exchange.\n",
    "    :param exchange_rate: float - the unit value of the foreign currency.\n",
    "    :param spread: int - percentage that is taken as an exchange fee.\n",
    "    :param denomination: int - the value of a single bill.\n",
    "    :return: int - maximum value you can get.\n",
    "    \"\"\"\n",
    "    return ( ( budget / ( exchange_rate + exchange_rate * ( spread / 100 ) ) ) //  denomination ) * denomination"
   ]
  },
  {
   "cell_type": "code",
   "execution_count": null,
   "id": "859a3881",
   "metadata": {
    "ExecuteTime": {
     "end_time": "2023-02-14T06:34:22.964192Z",
     "start_time": "2023-02-14T06:34:22.946123Z"
    }
   },
   "outputs": [],
   "source": [
    "exchangeable_value(127.25, 1.20, 10, 20)"
   ]
  },
  {
   "cell_type": "code",
   "execution_count": null,
   "id": "a311ba59",
   "metadata": {
    "ExecuteTime": {
     "end_time": "2023-02-14T06:34:24.137644Z",
     "start_time": "2023-02-14T06:34:24.122678Z"
    }
   },
   "outputs": [],
   "source": [
    "exchangeable_value(127.25, 1.20, 10, 5)"
   ]
  },
  {
   "cell_type": "markdown",
   "id": "653c633c",
   "metadata": {},
   "source": [
    "# Grains"
   ]
  },
  {
   "cell_type": "code",
   "execution_count": null,
   "id": "56047ede",
   "metadata": {
    "ExecuteTime": {
     "end_time": "2023-02-14T06:38:03.993889Z",
     "start_time": "2023-02-14T06:38:03.985930Z"
    }
   },
   "outputs": [],
   "source": [
    "def square(number):\n",
    "    \"\"\"\n",
    "    :param number: int - square number.    \n",
    "    :return: int - number of seeds for given square.\n",
    "    \"\"\"\n",
    "    if number < 1 or number > 64:\n",
    "        raise ValueError(\"square must be between 1 and 64\")\n",
    "    return 2 ** (number - 1)\n",
    "\n",
    "\n",
    "def total():\n",
    "    \"\"\"    \n",
    "    :return: int - total number of seeds for all squares.\n",
    "    \"\"\"\n",
    "    return (2 ** 64) - 1"
   ]
  },
  {
   "cell_type": "code",
   "execution_count": null,
   "id": "ee10d359",
   "metadata": {
    "ExecuteTime": {
     "end_time": "2023-02-14T06:39:26.360701Z",
     "start_time": "2023-02-14T06:39:26.347735Z"
    }
   },
   "outputs": [],
   "source": [
    "square(8)"
   ]
  },
  {
   "cell_type": "code",
   "execution_count": null,
   "id": "de7154ae",
   "metadata": {
    "ExecuteTime": {
     "end_time": "2023-02-14T06:39:37.966450Z",
     "start_time": "2023-02-14T06:39:37.954605Z"
    }
   },
   "outputs": [],
   "source": [
    "total()"
   ]
  },
  {
   "cell_type": "markdown",
   "id": "8a5cf508",
   "metadata": {},
   "source": [
    "# Armstrong numbers"
   ]
  },
  {
   "cell_type": "code",
   "execution_count": null,
   "id": "835cbbd3",
   "metadata": {
    "ExecuteTime": {
     "end_time": "2023-02-14T06:40:57.253445Z",
     "start_time": "2023-02-14T06:40:57.250444Z"
    }
   },
   "outputs": [],
   "source": [
    "def is_armstrong_number(number):\n",
    "    string_number = str(number)\n",
    "    number_length = len(string_number)\n",
    "    return number == sum([int(digit) ** number_length for digit in string_number])"
   ]
  },
  {
   "cell_type": "code",
   "execution_count": null,
   "id": "dbb8a67a",
   "metadata": {
    "ExecuteTime": {
     "end_time": "2023-02-14T06:41:14.965586Z",
     "start_time": "2023-02-14T06:41:14.954617Z"
    }
   },
   "outputs": [],
   "source": [
    "is_armstrong_number(100)"
   ]
  },
  {
   "cell_type": "code",
   "execution_count": null,
   "id": "c4f92e2e",
   "metadata": {
    "ExecuteTime": {
     "end_time": "2023-02-14T06:41:21.468543Z",
     "start_time": "2023-02-14T06:41:21.451588Z"
    }
   },
   "outputs": [],
   "source": [
    "is_armstrong_number(153)"
   ]
  },
  {
   "cell_type": "markdown",
   "id": "5762cd3a",
   "metadata": {},
   "source": [
    "# Difference of Squares"
   ]
  },
  {
   "cell_type": "code",
   "execution_count": null,
   "id": "643185c9",
   "metadata": {
    "ExecuteTime": {
     "end_time": "2023-02-14T06:51:39.949392Z",
     "start_time": "2023-02-14T06:51:39.930471Z"
    }
   },
   "outputs": [],
   "source": [
    "def square_of_sum(number):\n",
    "    res = 0\n",
    "    while number > 0:\n",
    "        res += number\n",
    "        number -= 1\n",
    "    return res ** 2\n",
    "\n",
    "\n",
    "def sum_of_squares(number):\n",
    "    res = 0\n",
    "    while number > 0:\n",
    "        res += number ** 2\n",
    "        number -= 1\n",
    "    return res\n",
    "\n",
    "\n",
    "def difference_of_squares(number):\n",
    "    return square_of_sum(number) - sum_of_squares(number)"
   ]
  },
  {
   "cell_type": "code",
   "execution_count": null,
   "id": "d146c1f0",
   "metadata": {
    "ExecuteTime": {
     "end_time": "2023-02-14T06:52:06.068399Z",
     "start_time": "2023-02-14T06:52:06.059412Z"
    }
   },
   "outputs": [],
   "source": [
    "square_of_sum(2)"
   ]
  },
  {
   "cell_type": "code",
   "execution_count": null,
   "id": "17df662c",
   "metadata": {
    "ExecuteTime": {
     "end_time": "2023-02-14T06:52:16.515661Z",
     "start_time": "2023-02-14T06:52:16.506685Z"
    }
   },
   "outputs": [],
   "source": [
    "sum_of_squares(2)"
   ]
  },
  {
   "cell_type": "code",
   "execution_count": null,
   "id": "633ec43e",
   "metadata": {
    "ExecuteTime": {
     "end_time": "2023-02-14T06:52:23.602879Z",
     "start_time": "2023-02-14T06:52:23.595923Z"
    }
   },
   "outputs": [],
   "source": [
    "difference_of_squares(2)"
   ]
  },
  {
   "cell_type": "markdown",
   "id": "3571e0f8",
   "metadata": {},
   "source": [
    "# Collatz Conjecture"
   ]
  },
  {
   "cell_type": "code",
   "execution_count": null,
   "id": "9a25c68c",
   "metadata": {
    "ExecuteTime": {
     "end_time": "2023-02-14T07:11:40.210028Z",
     "start_time": "2023-02-14T07:11:40.204064Z"
    }
   },
   "outputs": [],
   "source": [
    "def steps(number):\n",
    "    if number < 1:\n",
    "        raise ValueError('Only positive integers are allowed')\n",
    "    res = 0\n",
    "    while number > 1:\n",
    "        if number % 2 == 0:\n",
    "            number = number // 2\n",
    "        else:\n",
    "            number = 3 * number + 1\n",
    "        res += 1\n",
    "    return res"
   ]
  },
  {
   "cell_type": "code",
   "execution_count": null,
   "id": "6b4e128b",
   "metadata": {
    "ExecuteTime": {
     "end_time": "2023-02-14T07:12:04.003991Z",
     "start_time": "2023-02-14T07:12:03.987034Z"
    }
   },
   "outputs": [],
   "source": [
    "steps(12)"
   ]
  },
  {
   "cell_type": "markdown",
   "id": "0bffaadf",
   "metadata": {},
   "source": [
    "# Diffie-Hellman"
   ]
  },
  {
   "cell_type": "code",
   "execution_count": null,
   "id": "5e0097e8",
   "metadata": {
    "ExecuteTime": {
     "end_time": "2023-02-14T07:39:19.869039Z",
     "start_time": "2023-02-14T07:39:19.859066Z"
    }
   },
   "outputs": [],
   "source": [
    "def private_key(p):\n",
    "    if p < 2:\n",
    "        raise ValueError('P should be greater than 1')\n",
    "    return random.randint(2, p - 1)\n",
    "\n",
    "\n",
    "def public_key(p, g, private):\n",
    "    return (g ** private) % p\n",
    "\n",
    "\n",
    "def secret(p, public, private):\n",
    "    return (public ** private) % p"
   ]
  },
  {
   "cell_type": "code",
   "execution_count": null,
   "id": "181ce5e4",
   "metadata": {
    "ExecuteTime": {
     "end_time": "2023-02-14T07:39:46.599943Z",
     "start_time": "2023-02-14T07:39:46.581023Z"
    }
   },
   "outputs": [],
   "source": [
    "private_1 = private_key(1000)\n",
    "private_1"
   ]
  },
  {
   "cell_type": "code",
   "execution_count": null,
   "id": "56c2a79d",
   "metadata": {
    "ExecuteTime": {
     "end_time": "2023-02-14T07:39:58.564516Z",
     "start_time": "2023-02-14T07:39:58.557534Z"
    }
   },
   "outputs": [],
   "source": [
    "private_2 = private_key(1000)\n",
    "private_2"
   ]
  },
  {
   "cell_type": "code",
   "execution_count": null,
   "id": "78c4e8b6",
   "metadata": {
    "ExecuteTime": {
     "end_time": "2023-02-14T07:41:18.955851Z",
     "start_time": "2023-02-14T07:41:18.949867Z"
    }
   },
   "outputs": [],
   "source": [
    "public_1 = public_key(1000, 23, 739)\n",
    "public_1"
   ]
  },
  {
   "cell_type": "code",
   "execution_count": null,
   "id": "cd0b8b03",
   "metadata": {
    "ExecuteTime": {
     "end_time": "2023-02-14T07:41:38.952141Z",
     "start_time": "2023-02-14T07:41:38.941895Z"
    }
   },
   "outputs": [],
   "source": [
    "public_2 = public_key(1000, 23, 326)\n",
    "public_2"
   ]
  },
  {
   "cell_type": "code",
   "execution_count": null,
   "id": "7a508732",
   "metadata": {
    "ExecuteTime": {
     "end_time": "2023-02-14T07:43:19.409472Z",
     "start_time": "2023-02-14T07:43:19.389979Z"
    }
   },
   "outputs": [],
   "source": [
    "secret_1 = secret(1000, 689, 739)\n",
    "secret_1"
   ]
  },
  {
   "cell_type": "code",
   "execution_count": null,
   "id": "dc05b028",
   "metadata": {
    "ExecuteTime": {
     "end_time": "2023-02-14T07:44:15.333389Z",
     "start_time": "2023-02-14T07:44:15.326381Z"
    }
   },
   "outputs": [],
   "source": [
    "secret_2 = secret(1000, 887, 326)\n",
    "secret_2"
   ]
  },
  {
   "cell_type": "markdown",
   "id": "5c92cd92",
   "metadata": {},
   "source": [
    "# Palindrome Products"
   ]
  },
  {
   "cell_type": "code",
   "execution_count": 153,
   "id": "0f8f037e",
   "metadata": {
    "ExecuteTime": {
     "end_time": "2023-02-15T07:54:13.530373Z",
     "start_time": "2023-02-15T07:54:13.519403Z"
    }
   },
   "outputs": [],
   "source": [
    "def largest(min_factor, max_factor):\n",
    "    \"\"\"Given a range of numbers, find the largest palindromes which\n",
    "       are products of two numbers within that range.\n",
    "\n",
    "    :param min_factor: int with a default value of 0\n",
    "    :param max_factor: int\n",
    "    :return: tuple of (palindrome, iterable).\n",
    "             Iterable should contain both factors of the palindrome in an arbitrary order.\n",
    "    \"\"\"\n",
    "    if min_factor > max_factor:\n",
    "        raise ValueError('min must be <= max')\n",
    "    res_range = []\n",
    "    for num in range(max_factor ** 2, min_factor ** 2 - 1, -1):\n",
    "        if str(num) != str(num)[::-1]:\n",
    "            continue\n",
    "        for div in range(min_factor, max_factor + 1):\n",
    "            if num % div == 0 and num // div in range(min_factor, max_factor + 1):\n",
    "                res_range.append([div, num // div])\n",
    "        if res_range:\n",
    "            return num, res_range\n",
    "    return None, res_range\n",
    "    \n",
    "\n",
    "\n",
    "def smallest(min_factor, max_factor):\n",
    "    \"\"\"Given a range of numbers, find the smallest palindromes which\n",
    "    are products of two numbers within that range.\n",
    "\n",
    "    :param min_factor: int with a default value of 0\n",
    "    :param max_factor: int\n",
    "    :return: tuple of (palindrome, iterable).\n",
    "    Iterable should contain both factors of the palindrome in an arbitrary order.\n",
    "    \"\"\"\n",
    "    if min_factor > max_factor:\n",
    "        raise ValueError('min must be <= max')\n",
    "    res = None\n",
    "    res_range = []\n",
    "    for num in range(min_factor ** 2, max_factor ** 2 + 1):\n",
    "        if str(num) != str(num)[::-1]:\n",
    "            continue\n",
    "        for div in range(min_factor, max_factor + 1):\n",
    "            if num % div == 0 and num // div in range(min_factor, max_factor + 1):\n",
    "                res_range.append([div, num // div])\n",
    "        if res_range:\n",
    "            return num, res_range\n",
    "    return res, res_range"
   ]
  },
  {
   "cell_type": "code",
   "execution_count": 137,
   "id": "444083c3",
   "metadata": {
    "ExecuteTime": {
     "end_time": "2023-02-15T07:51:36.216642Z",
     "start_time": "2023-02-15T07:51:36.206669Z"
    }
   },
   "outputs": [
    {
     "data": {
      "text/plain": [
       "(9, [[1, 9], [3, 3], [9, 1]])"
      ]
     },
     "execution_count": 137,
     "metadata": {},
     "output_type": "execute_result"
    }
   ],
   "source": [
    "largest(1, 9)"
   ]
  },
  {
   "cell_type": "code",
   "execution_count": 138,
   "id": "29e0b518",
   "metadata": {
    "ExecuteTime": {
     "end_time": "2023-02-15T07:51:38.734991Z",
     "start_time": "2023-02-15T07:51:38.718037Z"
    }
   },
   "outputs": [
    {
     "data": {
      "text/plain": [
       "(1002001, [[1001, 1001]])"
      ]
     },
     "execution_count": 138,
     "metadata": {},
     "output_type": "execute_result"
    }
   ],
   "source": [
    "smallest(1000, 9999)"
   ]
  },
  {
   "cell_type": "code",
   "execution_count": 115,
   "id": "bb0be43e",
   "metadata": {
    "ExecuteTime": {
     "end_time": "2023-02-15T07:39:08.937950Z",
     "start_time": "2023-02-15T07:39:08.478774Z"
    }
   },
   "outputs": [
    {
     "data": {
      "text/plain": [
       "(None, [])"
      ]
     },
     "execution_count": 115,
     "metadata": {},
     "output_type": "execute_result"
    }
   ],
   "source": [
    "smallest(min_factor=1002, max_factor=1003)"
   ]
  },
  {
   "cell_type": "code",
   "execution_count": 11,
   "id": "7fb6b427",
   "metadata": {
    "ExecuteTime": {
     "end_time": "2023-02-14T12:25:19.283456Z",
     "start_time": "2023-02-14T12:25:19.265504Z"
    }
   },
   "outputs": [],
   "source": [
    "class PalindromeProductsTest(unittest.TestCase):\n",
    "    def test_find_the_smallest_palindrome_from_single_digit_factors(self):\n",
    "        value, factors = smallest(min_factor=1, max_factor=9)\n",
    "        self.assertEqual(value, 1)\n",
    "        self.assertFactorsEqual(factors, [[1, 1]])\n",
    "    def test_find_the_largest_palindrome_from_single_digit_factors(self):\n",
    "        value, factors = largest(min_factor=1, max_factor=9)\n",
    "        self.assertEqual(value, 9)\n",
    "        self.assertFactorsEqual(factors, [[1, 9], [3, 3]])\n",
    "    def test_find_the_smallest_palindrome_from_double_digit_factors(self):\n",
    "        value, factors = smallest(min_factor=10, max_factor=99)\n",
    "        self.assertEqual(value, 121)\n",
    "        self.assertFactorsEqual(factors, [[11, 11]])\n",
    "    def test_find_the_largest_palindrome_from_double_digit_factors(self):\n",
    "        value, factors = largest(min_factor=10, max_factor=99)\n",
    "        self.assertEqual(value, 9009)\n",
    "        self.assertFactorsEqual(factors, [[91, 99]])\n",
    "    def test_find_the_smallest_palindrome_from_triple_digit_factors(self):\n",
    "        value, factors = smallest(min_factor=100, max_factor=999)\n",
    "        self.assertEqual(value, 10201)\n",
    "        self.assertFactorsEqual(factors, [[101, 101]])\n",
    "    def test_find_the_largest_palindrome_from_triple_digit_factors(self):\n",
    "        value, factors = largest(min_factor=100, max_factor=999)\n",
    "        self.assertEqual(value, 906609)\n",
    "        self.assertFactorsEqual(factors, [[913, 993]])\n",
    "    def test_find_the_smallest_palindrome_from_four_digit_factors(self):\n",
    "        value, factors = smallest(min_factor=1000, max_factor=9999)\n",
    "        self.assertEqual(value, 1002001)\n",
    "        self.assertFactorsEqual(factors, [[1001, 1001]])\n",
    "    def test_find_the_largest_palindrome_from_four_digit_factors(self):\n",
    "        value, factors = largest(min_factor=1000, max_factor=9999)\n",
    "        self.assertEqual(value, 99000099)\n",
    "        self.assertFactorsEqual(factors, [[9901, 9999]])\n",
    "    def test_empty_result_for_smallest_if_no_palindrome_in_the_range(self):\n",
    "        value, factors = smallest(min_factor=1002, max_factor=1003)\n",
    "        self.assertIsNone(value)\n",
    "        self.assertFactorsEqual(factors, [])\n",
    "    def test_empty_result_for_largest_if_no_palindrome_in_the_range(self):\n",
    "        value, factors = largest(min_factor=15, max_factor=15)\n",
    "        self.assertIsNone(value)\n",
    "        self.assertFactorsEqual(factors, [])\n",
    "    def test_error_result_for_smallest_if_min_is_more_than_max(self):\n",
    "        with self.assertRaises(ValueError) as err:\n",
    "            value, factors = smallest(min_factor=10000, max_factor=1)\n",
    "        self.assertEqual(type(err.exception), ValueError)\n",
    "        self.assertEqual(err.exception.args[0], \"min must be <= max\")\n",
    "    def test_error_result_for_largest_if_min_is_more_than_max(self):\n",
    "        with self.assertRaises(ValueError) as err:\n",
    "            value, factors = largest(min_factor=2, max_factor=1)\n",
    "        self.assertEqual(type(err.exception), ValueError)\n",
    "        self.assertEqual(err.exception.args[0], \"min must be <= max\")\n",
    "    def test_smallest_product_does_not_use_the_smallest_factor(self):\n",
    "        value, factors = smallest(min_factor=3215, max_factor=4000)\n",
    "        self.assertEqual(value, 10988901)\n",
    "        self.assertFactorsEqual(factors, [[3297, 3333]])\n",
    "    def assertFactorsEqual(self, actual, expected):\n",
    "        self.assertEqual(set(map(frozenset, actual)), set(map(frozenset, expected)))"
   ]
  },
  {
   "cell_type": "code",
   "execution_count": 139,
   "id": "1407832f",
   "metadata": {
    "ExecuteTime": {
     "end_time": "2023-02-15T07:51:44.466294Z",
     "start_time": "2023-02-15T07:51:44.455319Z"
    }
   },
   "outputs": [],
   "source": [
    "tester = PalindromeProductsTest()"
   ]
  },
  {
   "cell_type": "code",
   "execution_count": 140,
   "id": "202a352b",
   "metadata": {
    "ExecuteTime": {
     "end_time": "2023-02-15T07:51:46.900007Z",
     "start_time": "2023-02-15T07:51:46.888040Z"
    }
   },
   "outputs": [],
   "source": [
    "tester.test_find_the_smallest_palindrome_from_single_digit_factors()"
   ]
  },
  {
   "cell_type": "code",
   "execution_count": 141,
   "id": "c9129fbf",
   "metadata": {
    "ExecuteTime": {
     "end_time": "2023-02-15T07:51:48.282693Z",
     "start_time": "2023-02-15T07:51:48.278703Z"
    }
   },
   "outputs": [],
   "source": [
    "tester.test_find_the_largest_palindrome_from_single_digit_factors()"
   ]
  },
  {
   "cell_type": "code",
   "execution_count": 142,
   "id": "2d296b61",
   "metadata": {
    "ExecuteTime": {
     "end_time": "2023-02-15T07:51:49.175235Z",
     "start_time": "2023-02-15T07:51:49.159278Z"
    }
   },
   "outputs": [],
   "source": [
    "tester.test_find_the_smallest_palindrome_from_double_digit_factors()"
   ]
  },
  {
   "cell_type": "code",
   "execution_count": 143,
   "id": "7970af9a",
   "metadata": {
    "ExecuteTime": {
     "end_time": "2023-02-15T07:51:49.921635Z",
     "start_time": "2023-02-15T07:51:49.911691Z"
    }
   },
   "outputs": [],
   "source": [
    "tester.test_find_the_largest_palindrome_from_double_digit_factors()"
   ]
  },
  {
   "cell_type": "code",
   "execution_count": 144,
   "id": "00f6f6c6",
   "metadata": {
    "ExecuteTime": {
     "end_time": "2023-02-15T07:51:50.857475Z",
     "start_time": "2023-02-15T07:51:50.847502Z"
    }
   },
   "outputs": [],
   "source": [
    "tester.test_find_the_smallest_palindrome_from_triple_digit_factors()"
   ]
  },
  {
   "cell_type": "code",
   "execution_count": 145,
   "id": "89ad7f51",
   "metadata": {
    "ExecuteTime": {
     "end_time": "2023-02-15T07:51:51.621747Z",
     "start_time": "2023-02-15T07:51:51.542921Z"
    }
   },
   "outputs": [],
   "source": [
    "tester.test_find_the_largest_palindrome_from_triple_digit_factors()"
   ]
  },
  {
   "cell_type": "code",
   "execution_count": 146,
   "id": "11710759",
   "metadata": {
    "ExecuteTime": {
     "end_time": "2023-02-15T07:51:52.242082Z",
     "start_time": "2023-02-15T07:51:52.223144Z"
    }
   },
   "outputs": [],
   "source": [
    "tester.test_find_the_smallest_palindrome_from_four_digit_factors()"
   ]
  },
  {
   "cell_type": "code",
   "execution_count": 147,
   "id": "8c54763a",
   "metadata": {
    "ExecuteTime": {
     "end_time": "2023-02-15T07:51:56.112844Z",
     "start_time": "2023-02-15T07:51:52.999159Z"
    }
   },
   "outputs": [],
   "source": [
    "tester.test_find_the_largest_palindrome_from_four_digit_factors()"
   ]
  },
  {
   "cell_type": "code",
   "execution_count": 148,
   "id": "98b22464",
   "metadata": {
    "ExecuteTime": {
     "end_time": "2023-02-15T07:51:57.539485Z",
     "start_time": "2023-02-15T07:51:57.535469Z"
    }
   },
   "outputs": [],
   "source": [
    "tester.test_empty_result_for_smallest_if_no_palindrome_in_the_range()"
   ]
  },
  {
   "cell_type": "code",
   "execution_count": 149,
   "id": "0e7bca15",
   "metadata": {
    "ExecuteTime": {
     "end_time": "2023-02-15T07:51:58.193335Z",
     "start_time": "2023-02-15T07:51:58.175361Z"
    }
   },
   "outputs": [],
   "source": [
    "tester.test_empty_result_for_largest_if_no_palindrome_in_the_range()"
   ]
  },
  {
   "cell_type": "code",
   "execution_count": 150,
   "id": "85454bcd",
   "metadata": {
    "ExecuteTime": {
     "end_time": "2023-02-15T07:51:58.877687Z",
     "start_time": "2023-02-15T07:51:58.871703Z"
    }
   },
   "outputs": [],
   "source": [
    "tester.test_error_result_for_smallest_if_min_is_more_than_max()"
   ]
  },
  {
   "cell_type": "code",
   "execution_count": 151,
   "id": "c1d5d261",
   "metadata": {
    "ExecuteTime": {
     "end_time": "2023-02-15T07:51:59.596008Z",
     "start_time": "2023-02-15T07:51:59.591020Z"
    }
   },
   "outputs": [],
   "source": [
    "tester.test_error_result_for_largest_if_min_is_more_than_max()"
   ]
  },
  {
   "cell_type": "code",
   "execution_count": 152,
   "id": "10d2bdd1",
   "metadata": {
    "ExecuteTime": {
     "end_time": "2023-02-15T07:52:01.312355Z",
     "start_time": "2023-02-15T07:52:00.998880Z"
    }
   },
   "outputs": [],
   "source": [
    "tester.test_smallest_product_does_not_use_the_smallest_factor()"
   ]
  }
 ],
 "metadata": {
  "kernelspec": {
   "display_name": "Python 3 (ipykernel)",
   "language": "python",
   "name": "python3"
  },
  "language_info": {
   "codemirror_mode": {
    "name": "ipython",
    "version": 3
   },
   "file_extension": ".py",
   "mimetype": "text/x-python",
   "name": "python",
   "nbconvert_exporter": "python",
   "pygments_lexer": "ipython3",
   "version": "3.9.13"
  },
  "toc": {
   "base_numbering": 1,
   "nav_menu": {},
   "number_sections": true,
   "sideBar": true,
   "skip_h1_title": false,
   "title_cell": "Table of Contents",
   "title_sidebar": "Contents",
   "toc_cell": false,
   "toc_position": {},
   "toc_section_display": true,
   "toc_window_display": true
  }
 },
 "nbformat": 4,
 "nbformat_minor": 5
}
