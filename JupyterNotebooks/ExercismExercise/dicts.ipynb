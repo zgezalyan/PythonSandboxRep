{
 "cells": [
  {
   "cell_type": "code",
   "execution_count": 4,
   "id": "dfe994d7",
   "metadata": {
    "ExecuteTime": {
     "end_time": "2023-02-09T11:12:55.822783Z",
     "start_time": "2023-02-09T11:12:55.818784Z"
    }
   },
   "outputs": [],
   "source": [
    "def create_inventory(items):\n",
    "    \"\"\"Create a dict that tracks the amount (count) of each element on the `items` list.\n",
    "\n",
    "    :param items: list - list of items to create an inventory from.\n",
    "    :return: dict - the inventory dictionary.\n",
    "    \"\"\"\n",
    "    return {item: items.count(item) for item in set(items)}"
   ]
  },
  {
   "cell_type": "code",
   "execution_count": 5,
   "id": "8bf9dfeb",
   "metadata": {
    "ExecuteTime": {
     "end_time": "2023-02-09T11:13:18.594566Z",
     "start_time": "2023-02-09T11:13:18.578991Z"
    }
   },
   "outputs": [
    {
     "data": {
      "text/plain": [
       "{'wood': 2, 'diamond': 3, 'coal': 1}"
      ]
     },
     "execution_count": 5,
     "metadata": {},
     "output_type": "execute_result"
    }
   ],
   "source": [
    "create_inventory([\"coal\", \"wood\", \"wood\", \"diamond\", \"diamond\", \"diamond\"])"
   ]
  },
  {
   "cell_type": "code",
   "execution_count": 16,
   "id": "c9af8cd9",
   "metadata": {
    "ExecuteTime": {
     "end_time": "2023-02-09T11:27:24.423988Z",
     "start_time": "2023-02-09T11:27:24.416979Z"
    }
   },
   "outputs": [],
   "source": [
    "def add_items(inventory, items):\n",
    "    \"\"\"Add or increment items in inventory using elements from the items `list`.\n",
    "\n",
    "    :param inventory: dict - dictionary of existing inventory.\n",
    "    :param items: list - list of items to update the inventory with.\n",
    "    :return: dict - the inventory updated with the new items.\n",
    "    \"\"\"\n",
    "    new_inventory = create_inventory(items)\n",
    "    for item in new_inventory.keys():\n",
    "        if item in inventory.keys():\n",
    "            inventory[item] += new_inventory[item]\n",
    "        else:\n",
    "            inventory.update({item: new_inventory[item]})\n",
    "    return inventory"
   ]
  },
  {
   "cell_type": "code",
   "execution_count": 17,
   "id": "2c62bcd0",
   "metadata": {
    "ExecuteTime": {
     "end_time": "2023-02-09T11:27:40.335500Z",
     "start_time": "2023-02-09T11:27:40.329544Z"
    }
   },
   "outputs": [
    {
     "data": {
      "text/plain": [
       "{'coal': 2, 'iron': 1, 'wood': 2}"
      ]
     },
     "execution_count": 17,
     "metadata": {},
     "output_type": "execute_result"
    }
   ],
   "source": [
    "add_items({\"coal\":1}, [\"wood\", \"iron\", \"coal\", \"wood\"])"
   ]
  },
  {
   "cell_type": "code",
   "execution_count": 18,
   "id": "7fddb145",
   "metadata": {
    "ExecuteTime": {
     "end_time": "2023-02-09T11:32:13.587190Z",
     "start_time": "2023-02-09T11:32:13.569524Z"
    }
   },
   "outputs": [],
   "source": [
    "def decrement_items(inventory, items):\n",
    "    \"\"\"Decrement items in inventory using elements from the `items` list.\n",
    "\n",
    "    :param inventory: dict - inventory dictionary.\n",
    "    :param items: list - list of items to decrement from the inventory.\n",
    "    :return: dict - updated inventory with items decremented.\n",
    "    \"\"\"\n",
    "    new_inventory = create_inventory(items)\n",
    "    for item in new_inventory.keys():\n",
    "        if item in inventory.keys():\n",
    "            if new_inventory[item] < inventory[item]:\n",
    "                inventory[item] -= new_inventory[item]\n",
    "            else:\n",
    "                inventory[item] = 0\n",
    "        else:\n",
    "            inventory.update({item: new_inventory[item]})\n",
    "    return inventory"
   ]
  },
  {
   "cell_type": "code",
   "execution_count": 19,
   "id": "8f316652",
   "metadata": {
    "ExecuteTime": {
     "end_time": "2023-02-09T11:32:26.275185Z",
     "start_time": "2023-02-09T11:32:26.256963Z"
    }
   },
   "outputs": [
    {
     "data": {
      "text/plain": [
       "{'coal': 2, 'diamond': 0, 'iron': 3}"
      ]
     },
     "execution_count": 19,
     "metadata": {},
     "output_type": "execute_result"
    }
   ],
   "source": [
    "decrement_items({\"coal\":3, \"diamond\":1, \"iron\":5}, [\"diamond\", \"coal\", \"iron\", \"iron\"])"
   ]
  },
  {
   "cell_type": "code",
   "execution_count": 20,
   "id": "674c1031",
   "metadata": {
    "ExecuteTime": {
     "end_time": "2023-02-09T11:33:10.811735Z",
     "start_time": "2023-02-09T11:33:10.792755Z"
    }
   },
   "outputs": [
    {
     "data": {
      "text/plain": [
       "{'coal': 0, 'wood': 0, 'diamond': 1}"
      ]
     },
     "execution_count": 20,
     "metadata": {},
     "output_type": "execute_result"
    }
   ],
   "source": [
    "decrement_items({\"coal\":2, \"wood\":1, \"diamond\":2}, [\"coal\", \"coal\", \"wood\", \"wood\", \"diamond\"])"
   ]
  },
  {
   "cell_type": "code",
   "execution_count": 24,
   "id": "ea1c99f7",
   "metadata": {
    "ExecuteTime": {
     "end_time": "2023-02-09T11:37:37.802671Z",
     "start_time": "2023-02-09T11:37:37.784677Z"
    }
   },
   "outputs": [],
   "source": [
    "def remove_item(inventory, item):\n",
    "    \"\"\"Remove item from inventory if it matches `item` string.\n",
    "\n",
    "    :param inventory: dict - inventory dictionary.\n",
    "    :param item: str - item to remove from the inventory.\n",
    "    :return: dict - updated inventory with item removed. Current inventory if item does not match.\n",
    "    \"\"\"\n",
    "    if item in inventory.keys():\n",
    "        inventory.pop(item)\n",
    "    return inventory"
   ]
  },
  {
   "cell_type": "code",
   "execution_count": 25,
   "id": "5ab10b4a",
   "metadata": {
    "ExecuteTime": {
     "end_time": "2023-02-09T11:37:50.099781Z",
     "start_time": "2023-02-09T11:37:50.088085Z"
    }
   },
   "outputs": [
    {
     "data": {
      "text/plain": [
       "{'wood': 1, 'diamond': 2}"
      ]
     },
     "execution_count": 25,
     "metadata": {},
     "output_type": "execute_result"
    }
   ],
   "source": [
    "remove_item({\"coal\":2, \"wood\":1, \"diamond\":2}, \"coal\")"
   ]
  },
  {
   "cell_type": "code",
   "execution_count": 26,
   "id": "48a2a3e0",
   "metadata": {
    "ExecuteTime": {
     "end_time": "2023-02-09T11:38:13.589947Z",
     "start_time": "2023-02-09T11:38:13.569435Z"
    }
   },
   "outputs": [
    {
     "data": {
      "text/plain": [
       "{'coal': 2, 'wood': 1, 'diamond': 2}"
      ]
     },
     "execution_count": 26,
     "metadata": {},
     "output_type": "execute_result"
    }
   ],
   "source": [
    "remove_item({\"coal\":2, \"wood\":1, \"diamond\":2}, \"gold\")"
   ]
  },
  {
   "cell_type": "code",
   "execution_count": 27,
   "id": "390ae5f0",
   "metadata": {
    "ExecuteTime": {
     "end_time": "2023-02-09T11:45:04.155566Z",
     "start_time": "2023-02-09T11:45:04.144591Z"
    }
   },
   "outputs": [],
   "source": [
    "def list_inventory(inventory):\n",
    "    \"\"\"Create a list containing all (item_name, item_count) pairs in inventory.\n",
    "\n",
    "    :param inventory: dict - an inventory dictionary.\n",
    "    :return: list of tuples - list of key, value pairs from the inventory dictionary.\n",
    "    \"\"\"\n",
    "    res = []\n",
    "    for item in inventory:\n",
    "        if inventory[item] > 0:\n",
    "            res.append((item, inventory[item]))\n",
    "    return res"
   ]
  },
  {
   "cell_type": "code",
   "execution_count": 28,
   "id": "2fee014d",
   "metadata": {
    "ExecuteTime": {
     "end_time": "2023-02-09T11:45:37.934819Z",
     "start_time": "2023-02-09T11:45:37.927837Z"
    }
   },
   "outputs": [
    {
     "data": {
      "text/plain": [
       "[('coal', 7), ('wood', 11), ('diamond', 2), ('iron', 7), ('silver', 0)]"
      ]
     },
     "execution_count": 28,
     "metadata": {},
     "output_type": "execute_result"
    }
   ],
   "source": [
    "list_inventory({\"coal\":7, \"wood\":11, \"diamond\":2, \"iron\":7, \"silver\":0})"
   ]
  }
 ],
 "metadata": {
  "kernelspec": {
   "display_name": "Python 3 (ipykernel)",
   "language": "python",
   "name": "python3"
  },
  "language_info": {
   "codemirror_mode": {
    "name": "ipython",
    "version": 3
   },
   "file_extension": ".py",
   "mimetype": "text/x-python",
   "name": "python",
   "nbconvert_exporter": "python",
   "pygments_lexer": "ipython3",
   "version": "3.9.13"
  },
  "toc": {
   "base_numbering": 1,
   "nav_menu": {},
   "number_sections": true,
   "sideBar": true,
   "skip_h1_title": false,
   "title_cell": "Table of Contents",
   "title_sidebar": "Contents",
   "toc_cell": false,
   "toc_position": {},
   "toc_section_display": true,
   "toc_window_display": true
  }
 },
 "nbformat": 4,
 "nbformat_minor": 5
}
