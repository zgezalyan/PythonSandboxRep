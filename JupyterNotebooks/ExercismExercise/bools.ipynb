{
 "cells": [
  {
   "cell_type": "code",
   "execution_count": 41,
   "id": "e42cfc9a",
   "metadata": {
    "ExecuteTime": {
     "end_time": "2023-02-15T09:50:15.603590Z",
     "start_time": "2023-02-15T09:50:15.571697Z"
    }
   },
   "outputs": [],
   "source": [
    "import unittest"
   ]
  },
  {
   "cell_type": "markdown",
   "id": "51c95cab",
   "metadata": {},
   "source": [
    "# Ghost Gobble"
   ]
  },
  {
   "cell_type": "code",
   "execution_count": null,
   "id": "f554c8e2",
   "metadata": {},
   "outputs": [],
   "source": [
    "def eat_ghost(power_pellet_active, touching_ghost):\n",
    "    \"\"\"Verify that Pac-Man can eat a ghost if he is empowered by a power pellet.\n",
    "\n",
    "    :param power_pellet_active: bool - does the player have an active power pellet?\n",
    "    :param touching_ghost: bool - is the player touching a ghost?\n",
    "    :return: bool - can the ghost be eaten?\n",
    "    \"\"\"    \n",
    "    return power_pellet_active and touching_ghost\n",
    "\n",
    "def score(touching_power_pellet, touching_dot):\n",
    "    \"\"\"Verify that Pac-Man has scored when a power pellet or dot has been eaten.\n",
    "\n",
    "    :param touching_power_pellet: bool - is the player touching a power pellet?\n",
    "    :param touching_dot: bool - is the player touching a dot?\n",
    "    :return: bool - has the player scored or not?\n",
    "    \"\"\"\n",
    "    return touching_power_pellet or touching_dot\n",
    "\n",
    "\n",
    "def lose(power_pellet_active, touching_ghost):\n",
    "    \"\"\"Trigger the game loop to end (GAME OVER) when Pac-Man touches a ghost without his power pellet.\n",
    "\n",
    "    :param power_pellet_active: bool - does the player have an active power pellet?\n",
    "    :param touching_ghost: bool - is the player touching a ghost?\n",
    "    :return: bool - has the player lost the game?\n",
    "    \"\"\"\n",
    "    return not power_pellet_active and touching_ghost\n",
    "\n",
    "\n",
    "def win(has_eaten_all_dots, power_pellet_active, touching_ghost):\n",
    "    \"\"\"Trigger the victory event when all dots have been eaten.\n",
    "\n",
    "    :param has_eaten_all_dots: bool - has the player \"eaten\" all the dots?\n",
    "    :param power_pellet_active: bool - does the player have an active power pellet?\n",
    "    :param touching_ghost: bool - is the player touching a ghost?\n",
    "    :return: bool - has the player won the game?\n",
    "    \"\"\"\n",
    "    return has_eaten_all_dots and not lose(power_pellet_active, touching_ghost)"
   ]
  },
  {
   "cell_type": "markdown",
   "id": "56bca848",
   "metadata": {},
   "source": [
    "# Leap"
   ]
  },
  {
   "cell_type": "code",
   "execution_count": 1,
   "id": "3710d543",
   "metadata": {
    "ExecuteTime": {
     "end_time": "2023-02-15T08:09:01.404588Z",
     "start_time": "2023-02-15T08:09:01.385606Z"
    }
   },
   "outputs": [],
   "source": [
    "def leap_year(year):\n",
    "    return year % 4 == 0 and (year % 100 != 0 or year % 400 == 0)"
   ]
  },
  {
   "cell_type": "markdown",
   "id": "f60ee9eb",
   "metadata": {},
   "source": [
    "# Triangle"
   ]
  },
  {
   "cell_type": "code",
   "execution_count": 32,
   "id": "7d139d08",
   "metadata": {
    "ExecuteTime": {
     "end_time": "2023-02-15T08:28:56.174457Z",
     "start_time": "2023-02-15T08:28:56.167475Z"
    }
   },
   "outputs": [],
   "source": [
    "def equilateral(sides):\n",
    "    if 0 in sides or sides[0] + sides[1] < sides[2] or sides[0] + sides[2] < sides[1] or sides[1] + sides[2] < sides[0]:\n",
    "        raise ValueError('Inconsistent sides')\n",
    "    return sides[0] == sides[1] == sides[2]"
   ]
  },
  {
   "cell_type": "code",
   "execution_count": 38,
   "id": "79ed0e3d",
   "metadata": {
    "ExecuteTime": {
     "end_time": "2023-02-15T08:30:18.556186Z",
     "start_time": "2023-02-15T08:30:18.545351Z"
    }
   },
   "outputs": [
    {
     "data": {
      "text/plain": [
       "False"
      ]
     },
     "execution_count": 38,
     "metadata": {},
     "output_type": "execute_result"
    }
   ],
   "source": [
    "equilateral([2, 1, 1])"
   ]
  },
  {
   "cell_type": "code",
   "execution_count": 33,
   "id": "9255f97e",
   "metadata": {
    "ExecuteTime": {
     "end_time": "2023-02-15T08:28:57.655447Z",
     "start_time": "2023-02-15T08:28:57.647467Z"
    }
   },
   "outputs": [],
   "source": [
    "def isosceles(sides):\n",
    "    if 0 in sides or sides[0] + sides[1] < sides[2] or sides[0] + sides[2] < sides[1] or sides[1] + sides[2] < sides[0]:\n",
    "        raise ValueError('Inconsistent sides')\n",
    "    return sides[0] == sides[1] or sides[1] == sides[2] or sides[0] == sides[2]"
   ]
  },
  {
   "cell_type": "code",
   "execution_count": 31,
   "id": "5bcc9903",
   "metadata": {
    "ExecuteTime": {
     "end_time": "2023-02-15T08:27:33.546663Z",
     "start_time": "2023-02-15T08:27:33.535688Z"
    }
   },
   "outputs": [
    {
     "data": {
      "text/plain": [
       "True"
      ]
     },
     "execution_count": 31,
     "metadata": {},
     "output_type": "execute_result"
    }
   ],
   "source": [
    "isosceles([3, 1, 1])"
   ]
  },
  {
   "cell_type": "code",
   "execution_count": 36,
   "id": "059536bb",
   "metadata": {
    "ExecuteTime": {
     "end_time": "2023-02-15T08:30:00.238178Z",
     "start_time": "2023-02-15T08:30:00.223992Z"
    }
   },
   "outputs": [],
   "source": [
    "def scalene(sides):\n",
    "    if 0 in sides or sides[0] + sides[1] < sides[2] or sides[0] + sides[2] < sides[1] or sides[1] + sides[2] < sides[0]:\n",
    "        raise ValueError('Inconsistent sides')\n",
    "    return sides[0] != sides[1] != sides[2] and sides[0] != sides[2]"
   ]
  },
  {
   "cell_type": "code",
   "execution_count": 37,
   "id": "beee6562",
   "metadata": {
    "ExecuteTime": {
     "end_time": "2023-02-15T08:30:02.375094Z",
     "start_time": "2023-02-15T08:30:02.368114Z"
    }
   },
   "outputs": [
    {
     "data": {
      "text/plain": [
       "False"
      ]
     },
     "execution_count": 37,
     "metadata": {},
     "output_type": "execute_result"
    }
   ],
   "source": [
    "scalene([3, 4, 3])"
   ]
  },
  {
   "cell_type": "markdown",
   "id": "1e7a3338",
   "metadata": {},
   "source": [
    "# Yacht"
   ]
  },
  {
   "cell_type": "code",
   "execution_count": 64,
   "id": "4d36420d",
   "metadata": {
    "ExecuteTime": {
     "end_time": "2023-02-15T10:56:36.951050Z",
     "start_time": "2023-02-15T10:56:36.934402Z"
    }
   },
   "outputs": [],
   "source": [
    "YACHT = 0\n",
    "ONES = 1\n",
    "TWOS = 2\n",
    "THREES = 3\n",
    "FOURS = 4\n",
    "FIVES = 5\n",
    "SIXES = 6\n",
    "FULL_HOUSE = 7\n",
    "FOUR_OF_A_KIND = 8\n",
    "LITTLE_STRAIGHT = 9\n",
    "BIG_STRAIGHT = 10\n",
    "CHOICE = 11\n",
    "\n",
    "\n",
    "def score(dice, category):\n",
    "    if category == YACHT and dice[0] == dice[1] == dice[2] == dice[3] == dice[4]:\n",
    "        return 50\n",
    "    if category == ONES or category == TWOS or category == THREES or category == FOURS or category == FIVES or category == SIXES:\n",
    "        return dice.count(category) * category\n",
    "    if category == FULL_HOUSE and (\n",
    "        (sorted(dice).count(dice[0]) == 3 and sorted(dice).count(dice[3]) == 2) or\n",
    "        (sorted(dice).count(dice[0]) == 2 and sorted(dice).count(dice[2]) == 3)):\n",
    "        return sum(dice)\n",
    "    if category == FOUR_OF_A_KIND and (sorted(dice).count(dice[0]) >= 4 or sorted(dice).count(dice[1]) >= 4):\n",
    "        return sum(sorted(dice)[0:4]) if sorted(dice)[0] == sorted(dice)[1] else sum(sorted(dice)[1:])\n",
    "    if category == LITTLE_STRAIGHT and sorted(dice)[0] == 1 and sorted(dice)[1] == 2 and sorted(dice)[2] == 3 and sorted(dice)[3] == 4 and sorted(dice)[4] == 5:\n",
    "        return 30\n",
    "    if category == BIG_STRAIGHT and sorted(dice)[0] == 2 and sorted(dice)[1] == 3 and sorted(dice)[2] == 4 and sorted(dice)[3] == 5 and sorted(dice)[4] == 6:\n",
    "        return 30\n",
    "    if category == CHOICE:\n",
    "        return sum(dice)\n",
    "    return 0"
   ]
  },
  {
   "cell_type": "code",
   "execution_count": 63,
   "id": "1de73aed",
   "metadata": {
    "ExecuteTime": {
     "end_time": "2023-02-15T10:56:01.590762Z",
     "start_time": "2023-02-15T10:56:01.582815Z"
    }
   },
   "outputs": [
    {
     "data": {
      "text/plain": [
       "0"
      ]
     },
     "execution_count": 63,
     "metadata": {},
     "output_type": "execute_result"
    }
   ],
   "source": [
    "score([3, 3, 3, 3, 3], FOUR_OF_A_KIND)"
   ]
  },
  {
   "cell_type": "code",
   "execution_count": 46,
   "id": "ee5b89be",
   "metadata": {
    "ExecuteTime": {
     "end_time": "2023-02-15T09:53:04.299951Z",
     "start_time": "2023-02-15T09:53:04.282996Z"
    }
   },
   "outputs": [],
   "source": [
    "\n",
    "class YachtTest(unittest.TestCase):\n",
    "    def test_yacht(self):\n",
    "        self.assertEqual(score([5, 5, 5, 5, 5], YACHT), 50)\n",
    "    def test_not_yacht(self):\n",
    "        self.assertEqual(score([1, 3, 3, 2, 5], YACHT), 0)\n",
    "    def test_ones(self):\n",
    "        self.assertEqual(score([1, 1, 1, 3, 5], ONES), 3)\n",
    "    def test_ones_out_of_order(self):\n",
    "        self.assertEqual(score([3, 1, 1, 5, 1], ONES), 3)\n",
    "    def test_no_ones(self):\n",
    "        self.assertEqual(score([4, 3, 6, 5, 5], ONES), 0)\n",
    "    def test_twos(self):\n",
    "        self.assertEqual(score([2, 3, 4, 5, 6], TWOS), 2)\n",
    "    def test_fours(self):\n",
    "        self.assertEqual(score([1, 4, 1, 4, 1], FOURS), 8)\n",
    "    def test_yacht_counted_as_threes(self):\n",
    "        self.assertEqual(score([3, 3, 3, 3, 3], THREES), 15)\n",
    "    def test_yacht_of_3s_counted_as_fives(self):\n",
    "        self.assertEqual(score([3, 3, 3, 3, 3], FIVES), 0)\n",
    "    def test_fives(self):\n",
    "        self.assertEqual(score([1, 5, 3, 5, 3], FIVES), 10)\n",
    "    def test_sixes(self):\n",
    "        self.assertEqual(score([2, 3, 4, 5, 6], SIXES), 6)\n",
    "    def test_full_house_two_small_three_big(self):\n",
    "        self.assertEqual(score([2, 2, 4, 4, 4], FULL_HOUSE), 16)\n",
    "    def test_full_house_three_small_two_big(self):\n",
    "        self.assertEqual(score([5, 3, 3, 5, 3], FULL_HOUSE), 19)\n",
    "    def test_two_pair_is_not_a_full_house(self):\n",
    "        self.assertEqual(score([2, 2, 4, 4, 5], FULL_HOUSE), 0)\n",
    "    def test_four_of_a_kind_is_not_a_full_house(self):\n",
    "        self.assertEqual(score([1, 4, 4, 4, 4], FULL_HOUSE), 0)\n",
    "    def test_yacht_is_not_a_full_house(self):\n",
    "        self.assertEqual(score([2, 2, 2, 2, 2], FULL_HOUSE), 0)\n",
    "    def test_four_of_a_kind(self):\n",
    "        self.assertEqual(score([6, 6, 4, 6, 6], FOUR_OF_A_KIND), 24)\n",
    "    def test_yacht_can_be_scored_as_four_of_a_kind(self):\n",
    "        self.assertEqual(score([3, 3, 3, 3, 3], FOUR_OF_A_KIND), 12)\n",
    "    def test_full_house_is_not_four_of_a_kind(self):\n",
    "        self.assertEqual(score([3, 3, 3, 5, 5], FOUR_OF_A_KIND), 0)\n",
    "    def test_little_straight(self):\n",
    "        self.assertEqual(score([3, 5, 4, 1, 2], LITTLE_STRAIGHT), 30)\n",
    "    def test_little_straight_as_big_straight(self):\n",
    "        self.assertEqual(score([1, 2, 3, 4, 5], BIG_STRAIGHT), 0)\n",
    "    def test_four_in_order_but_not_a_little_straight(self):\n",
    "        self.assertEqual(score([1, 1, 2, 3, 4], LITTLE_STRAIGHT), 0)\n",
    "    def test_no_pairs_but_not_a_little_straight(self):\n",
    "        self.assertEqual(score([1, 2, 3, 4, 6], LITTLE_STRAIGHT), 0)\n",
    "    def test_minimum_is_1_maximum_is_5_but_not_a_little_straight(self):\n",
    "        self.assertEqual(score([1, 1, 3, 4, 5], LITTLE_STRAIGHT), 0)\n",
    "    def test_big_straight(self):\n",
    "        self.assertEqual(score([4, 6, 2, 5, 3], BIG_STRAIGHT), 30)\n",
    "    def test_big_straight_as_little_straight(self):\n",
    "        self.assertEqual(score([6, 5, 4, 3, 2], LITTLE_STRAIGHT), 0)\n",
    "    def test_no_pairs_but_not_a_big_straight(self):\n",
    "        self.assertEqual(score([6, 5, 4, 3, 1], BIG_STRAIGHT), 0)\n",
    "    def test_choice(self):\n",
    "        self.assertEqual(score([3, 3, 5, 6, 6], CHOICE), 23)\n",
    "    def test_yacht_as_choice(self):\n",
    "        self.assertEqual(score([2, 2, 2, 2, 2], CHOICE), 10)"
   ]
  },
  {
   "cell_type": "code",
   "execution_count": 47,
   "id": "b2375024",
   "metadata": {
    "ExecuteTime": {
     "end_time": "2023-02-15T09:53:05.845871Z",
     "start_time": "2023-02-15T09:53:05.835858Z"
    }
   },
   "outputs": [],
   "source": [
    "tester = YachtTest()"
   ]
  },
  {
   "cell_type": "code",
   "execution_count": 65,
   "id": "df14ca82",
   "metadata": {
    "ExecuteTime": {
     "end_time": "2023-02-15T10:56:40.609375Z",
     "start_time": "2023-02-15T10:56:40.598656Z"
    }
   },
   "outputs": [],
   "source": [
    "tester.test_not_yacht()\n",
    "tester.test_ones()\n",
    "tester.test_ones_out_of_order()\n",
    "tester.test_no_ones()\n",
    "tester.test_twos()\n",
    "tester.test_fours()\n",
    "tester.test_yacht_counted_as_threes()\n",
    "tester.test_yacht_of_3s_counted_as_fives()\n",
    "tester.test_fives()\n",
    "tester.test_sixes()\n",
    "tester.test_full_house_two_small_three_big()\n",
    "tester.test_full_house_three_small_two_big()\n",
    "tester.test_two_pair_is_not_a_full_house()\n",
    "tester.test_four_of_a_kind_is_not_a_full_house()\n",
    "tester.test_yacht_is_not_a_full_house()\n",
    "tester.test_four_of_a_kind()\n",
    "tester.test_yacht_can_be_scored_as_four_of_a_kind()\n",
    "tester.test_full_house_is_not_four_of_a_kind()\n",
    "tester.test_little_straight()\n",
    "tester.test_little_straight_as_big_straight()\n",
    "tester.test_four_in_order_but_not_a_little_straight()\n",
    "tester.test_no_pairs_but_not_a_little_straight()\n",
    "tester.test_minimum_is_1_maximum_is_5_but_not_a_little_straight()\n",
    "tester.test_big_straight()\n",
    "tester.test_big_straight_as_little_straight()\n",
    "tester.test_no_pairs_but_not_a_big_straight()\n",
    "tester.test_choice()\n",
    "tester.test_yacht_as_choice()"
   ]
  }
 ],
 "metadata": {
  "kernelspec": {
   "display_name": "Python 3 (ipykernel)",
   "language": "python",
   "name": "python3"
  },
  "language_info": {
   "codemirror_mode": {
    "name": "ipython",
    "version": 3
   },
   "file_extension": ".py",
   "mimetype": "text/x-python",
   "name": "python",
   "nbconvert_exporter": "python",
   "pygments_lexer": "ipython3",
   "version": "3.9.13"
  },
  "toc": {
   "base_numbering": 1,
   "nav_menu": {},
   "number_sections": true,
   "sideBar": true,
   "skip_h1_title": false,
   "title_cell": "Table of Contents",
   "title_sidebar": "Contents",
   "toc_cell": false,
   "toc_position": {},
   "toc_section_display": true,
   "toc_window_display": true
  }
 },
 "nbformat": 4,
 "nbformat_minor": 5
}
