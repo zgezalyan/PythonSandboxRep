{
 "cells": [
  {
   "cell_type": "code",
   "execution_count": 1,
   "id": "82a8955f",
   "metadata": {
    "ExecuteTime": {
     "end_time": "2023-02-08T10:10:52.195951Z",
     "start_time": "2023-02-08T10:10:52.186498Z"
    }
   },
   "outputs": [],
   "source": [
    "def capitalize_title(title):\n",
    "    \"\"\"Convert the first letter of each word in the title to uppercase if needed.\n",
    "\n",
    "    :param title: str - title string that needs title casing.\n",
    "    :return: str - title string in title case (first letters capitalized).\n",
    "    \"\"\"\n",
    "    if not isinstance(title, str):\n",
    "        raise TypeError('Argument should be string')\n",
    "    return title.title()"
   ]
  },
  {
   "cell_type": "code",
   "execution_count": 4,
   "id": "42b2f958",
   "metadata": {
    "ExecuteTime": {
     "end_time": "2023-02-08T10:11:41.325637Z",
     "start_time": "2023-02-08T10:11:41.305015Z"
    }
   },
   "outputs": [
    {
     "data": {
      "text/plain": [
       "'This Is Title'"
      ]
     },
     "execution_count": 4,
     "metadata": {},
     "output_type": "execute_result"
    }
   ],
   "source": [
    "capitalize_title('this is title')"
   ]
  },
  {
   "cell_type": "code",
   "execution_count": 22,
   "id": "1bf97a9f",
   "metadata": {
    "ExecuteTime": {
     "end_time": "2023-02-08T10:38:22.076203Z",
     "start_time": "2023-02-08T10:38:22.071217Z"
    }
   },
   "outputs": [],
   "source": [
    "def check_sentence_ending(sentence):\n",
    "    \"\"\"Check the ending of the sentence to verify that a period is present.\n",
    "\n",
    "    :param sentence: str - a sentence to check.\n",
    "    :return: bool - return True if punctuated correctly with period, False otherwise.\n",
    "    \"\"\"\n",
    "    if not isinstance(sentence, str):\n",
    "        raise TypeError('Argument should be string')\n",
    "    return sentence.endswith('.')"
   ]
  },
  {
   "cell_type": "code",
   "execution_count": 23,
   "id": "61e811a0",
   "metadata": {
    "ExecuteTime": {
     "end_time": "2023-02-08T10:38:24.570530Z",
     "start_time": "2023-02-08T10:38:24.559534Z"
    }
   },
   "outputs": [
    {
     "data": {
      "text/plain": [
       "True"
      ]
     },
     "execution_count": 23,
     "metadata": {},
     "output_type": "execute_result"
    }
   ],
   "source": [
    "check_sentence_ending('Sentence end with period.')"
   ]
  },
  {
   "cell_type": "code",
   "execution_count": 19,
   "id": "f134c9fb",
   "metadata": {
    "ExecuteTime": {
     "end_time": "2023-02-08T10:36:43.152359Z",
     "start_time": "2023-02-08T10:36:43.144151Z"
    }
   },
   "outputs": [],
   "source": [
    "def clean_up_spacing(sentence):\n",
    "    \"\"\"Verify that there isn't any whitespace at the start and end of the sentence.\n",
    "\n",
    "    :param sentence: str - a sentence to clean of leading and trailing space characters.\n",
    "    :return: str - a sentence that has been cleaned of leading and trailing space characters.\n",
    "    \"\"\"\n",
    "    if not isinstance(sentence, str):\n",
    "        raise TypeError('Argument should be string')\n",
    "    return sentence.strip()"
   ]
  },
  {
   "cell_type": "code",
   "execution_count": 21,
   "id": "980972d5",
   "metadata": {
    "ExecuteTime": {
     "end_time": "2023-02-08T10:36:49.122612Z",
     "start_time": "2023-02-08T10:36:49.103411Z"
    }
   },
   "outputs": [
    {
     "data": {
      "text/plain": [
       "'This is sentence'"
      ]
     },
     "execution_count": 21,
     "metadata": {},
     "output_type": "execute_result"
    }
   ],
   "source": [
    "clean_up_spacing(' This is sentence      ')"
   ]
  },
  {
   "cell_type": "code",
   "execution_count": 17,
   "id": "8a201f92",
   "metadata": {
    "ExecuteTime": {
     "end_time": "2023-02-08T10:29:04.106870Z",
     "start_time": "2023-02-08T10:29:04.088891Z"
    }
   },
   "outputs": [],
   "source": [
    "def replace_word_choice(sentence, old_word, new_word):\n",
    "    \"\"\"Replace a word in the provided sentence with a new one.\n",
    "\n",
    "    :param sentence: str - a sentence to replace words in.\n",
    "    :param old_word: str - word to replace.\n",
    "    :param new_word: str - replacement word.\n",
    "    :return: str - input sentence with new words in place of old words.\n",
    "    \"\"\"\n",
    "    if not isinstance(sentence, str) or \\\n",
    "        not isinstance(old_word, str) or \\\n",
    "        not isinstance(new_word, str):\n",
    "        raise TypeError('Argument should be string')\n",
    "    return sentence.replace(old_word, new_word)"
   ]
  },
  {
   "cell_type": "code",
   "execution_count": 18,
   "id": "0681456e",
   "metadata": {
    "ExecuteTime": {
     "end_time": "2023-02-08T10:29:36.097349Z",
     "start_time": "2023-02-08T10:29:36.088345Z"
    }
   },
   "outputs": [
    {
     "data": {
      "text/plain": [
       "'I bake amazing cakes.'"
      ]
     },
     "execution_count": 18,
     "metadata": {},
     "output_type": "execute_result"
    }
   ],
   "source": [
    "replace_word_choice(\"I bake good cakes.\", \"good\", \"amazing\")"
   ]
  }
 ],
 "metadata": {
  "kernelspec": {
   "display_name": "Python 3 (ipykernel)",
   "language": "python",
   "name": "python3"
  },
  "language_info": {
   "codemirror_mode": {
    "name": "ipython",
    "version": 3
   },
   "file_extension": ".py",
   "mimetype": "text/x-python",
   "name": "python",
   "nbconvert_exporter": "python",
   "pygments_lexer": "ipython3",
   "version": "3.9.13"
  },
  "toc": {
   "base_numbering": 1,
   "nav_menu": {},
   "number_sections": true,
   "sideBar": true,
   "skip_h1_title": false,
   "title_cell": "Table of Contents",
   "title_sidebar": "Contents",
   "toc_cell": false,
   "toc_position": {},
   "toc_section_display": true,
   "toc_window_display": true
  }
 },
 "nbformat": 4,
 "nbformat_minor": 5
}
