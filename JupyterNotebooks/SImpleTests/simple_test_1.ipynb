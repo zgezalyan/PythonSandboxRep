{
 "cells": [
  {
   "cell_type": "markdown",
   "id": "9fefc579",
   "metadata": {},
   "source": [
    "# Sample header"
   ]
  },
  {
   "cell_type": "code",
   "execution_count": null,
   "id": "c43baf5f",
   "metadata": {
    "ExecuteTime": {
     "end_time": "2023-02-06T14:21:21.938569Z",
     "start_time": "2023-02-06T14:21:21.926620Z"
    }
   },
   "outputs": [],
   "source": [
    "a = 2\n",
    "a"
   ]
  },
  {
   "cell_type": "code",
   "execution_count": null,
   "id": "dabb7b66",
   "metadata": {
    "ExecuteTime": {
     "end_time": "2023-02-06T14:21:23.055515Z",
     "start_time": "2023-02-06T14:21:23.048533Z"
    }
   },
   "outputs": [],
   "source": [
    "b = a + 1\n",
    "b"
   ]
  }
 ],
 "metadata": {
  "kernelspec": {
   "display_name": "Python 3 (ipykernel)",
   "language": "python",
   "name": "python3"
  },
  "language_info": {
   "codemirror_mode": {
    "name": "ipython",
    "version": 3
   },
   "file_extension": ".py",
   "mimetype": "text/x-python",
   "name": "python",
   "nbconvert_exporter": "python",
   "pygments_lexer": "ipython3",
   "version": "3.9.13"
  },
  "toc": {
   "base_numbering": 1,
   "nav_menu": {},
   "number_sections": true,
   "sideBar": true,
   "skip_h1_title": false,
   "title_cell": "Table of Contents",
   "title_sidebar": "Contents",
   "toc_cell": false,
   "toc_position": {
    "height": "calc(100% - 180px)",
    "left": "10px",
    "top": "150px",
    "width": "386.792px"
   },
   "toc_section_display": true,
   "toc_window_display": true
  }
 },
 "nbformat": 4,
 "nbformat_minor": 5
}
